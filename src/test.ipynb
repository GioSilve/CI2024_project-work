{
 "cells": [
  {
   "cell_type": "code",
   "execution_count": 74,
   "metadata": {},
   "outputs": [],
   "source": [
    "import numpy as np\n",
    "import random\n",
    "import copy\n",
    "import globals as gb\n",
    "from tqdm.auto import tqdm\n",
    "from dataclasses import dataclass\n",
    "from tree import Tree, swap_subtrees, generate_initial_solution\n",
    "from utils import mse, sort_individuals\n",
    "from mutations import mutation\n",
    "from tree_node import TreeNode"
   ]
  },
  {
   "cell_type": "markdown",
   "metadata": {},
   "source": [
    "## Problem selection"
   ]
  },
  {
   "cell_type": "code",
   "execution_count": 75,
   "metadata": {},
   "outputs": [],
   "source": [
    "gb.initialize_globals_for_problem(2)\n",
    "\n",
    "POPULATION_SIZE = gb.PROBLEM_SIZE * 20\n",
    "OFFSPRING_SIZE = int(POPULATION_SIZE / 4)\n",
    "# MAX_ITERATIONS = POPULATION_SIZE * 50\n",
    "MAX_ITERATIONS = POPULATION_SIZE *75\n"
   ]
  },
  {
   "cell_type": "code",
   "execution_count": 76,
   "metadata": {},
   "outputs": [
    {
     "data": {
      "text/plain": [
       "array([ 7410414.43690531,  2718394.75374291, -2965018.44690772, ...,\n",
       "        2885497.3710946 ,  4575254.61875869, -5672679.68684025],\n",
       "      shape=(5000,))"
      ]
     },
     "execution_count": 76,
     "metadata": {},
     "output_type": "execute_result"
    }
   ],
   "source": [
    "gb.Y"
   ]
  },
  {
   "cell_type": "markdown",
   "metadata": {},
   "source": [
    "## Steps\n",
    "- We treat a possible solution as a tree. The tree has attribute root, which is the root of the tree of class TreeNode and max_depth.\n",
    "- Generate random tree\n",
    "    - we need each variable at least once \n",
    "    - each variable has exactly one coefficient chosen as a random float number in the range [?, ?]\n",
    "    - each variable has exactly one unary operator\n",
    "    - unary operator is chosen as: 50% chance of \"\" (i.e. no change to the variable), 50% chance of choosing among all other unary operators\n",
    "        - check if the unary operator is appliable to the variable ->\n",
    "            ```\n",
    "            leaves_map = {}\n",
    "            for e in leaves:\n",
    "                available_unary_operators = [op for op in list(UNARY_OPERATORS.keys()) if op.is_applicable(e)]\n",
    "                chosen_unary_operator = 50% chance of \"\" (i.e. no change to the variable), 50% chance of choosing among [available_unary_operators]\n",
    "                leaves_map[e] = [chosen_unary_operator]\n",
    "            # leaves = [-2, 3]\n",
    "            # leaves_map = {-2: square, 3: log}\n",
    "            for e in leaves:\n",
    "                node = leaves_map[e]\n",
    "                node.left = null\n",
    "                node.right = e\n",
    "                # insert node to tree\n",
    "            ```\n",
    "    - number of leaves = nearest power of two greater than keys.length()\n",
    "    - number of actual leaves = [number of leaves] * 2\n",
    "    - number of coefficients = [number of leaves] - keys.length()\n",
    "    - number of binrary operators = total number of nodes in  tree with [number of leaves] leaves - [number of leaves]]\n",
    "    - validate tree\n",
    "    - if valid, return tree\n",
    "    - else, ?\n",
    "- Example:\n",
    "    - x.length() = 3\n",
    "    - number of leaves = 4\n",
    "    - number of actual leaves = 8\n",
    "    - number of coefficients = 1\n",
    "    - number of operands = 3\n",
    "\n",
    "    ```bash\n",
    "                    +\n",
    "            /                  \\\n",
    "            *                    +\n",
    "        /      \\           /        \\\n",
    "      u        1          1          u\n",
    "    /   \\    /   \\      /   \\       /  \\\n",
    "    nul  *  nul   *    nul    *     nul *\n",
    "    ```\n",
    "### EA approach\n",
    "- Individual is rapresented as a tree and a fitness\n",
    "    - fitness is a tuple of 2 values: (-mse, right_sign_100)\n",
    "        - right_sign_100 is the percentage of correct sign predictions\n",
    "        - mse is the mean squared error\n",
    "- Classic Genetic Programming\n",
    "    - Key elements \n",
    "    - Representation: tree structures\n",
    "    - Recombination: exchange of subtrees\n",
    "    - Mutation: random change in trees\n",
    "        - subtree mutation -> replace  entire subtree\n",
    "        - point  mutation -> change single node\n",
    "        - permutation -> exchange node right with left\n",
    "        - hoist -> take subtree and make it root\n",
    "        - expansion -> take random leaf and replace it with a new subtree\n",
    "        - collapse -> take a subtree and replace it with leaf\n",
    "    - Population model: generational\n",
    "    - Parent selection: fitness proportional\n",
    "    - Survivor selection: deterministic\n",
    "\n",
    "##next\n",
    "\n",
    "    - finish implementing mutations\n",
    "    - find way to reduce tree dimension\n",
    "    - add weights to opertors\n",
    "    - add check if fitness doesn't improve , stop early\n",
    "    - \n",
    "\n",
    "##problems\n",
    "    - overflow\n",
    "    - initial tree with 4xnodes has invalid values\n",
    "    - \n"
   ]
  },
  {
   "cell_type": "markdown",
   "metadata": {},
   "source": [
    "## Individual definition"
   ]
  },
  {
   "cell_type": "code",
   "execution_count": 77,
   "metadata": {},
   "outputs": [],
   "source": [
    "@dataclass\n",
    "class Individual:\n",
    "    genome: Tree\n",
    "    fitness: tuple"
   ]
  },
  {
   "cell_type": "markdown",
   "metadata": {},
   "source": [
    "## Fitness evaluation"
   ]
  },
  {
   "cell_type": "code",
   "execution_count": 78,
   "metadata": {},
   "outputs": [],
   "source": [
    "def fitness(sol: Tree):\n",
    "    y_computed = sol.root.evaluate_tree_from_node()\n",
    "    right_sign_100 = 100 * np.sum(np.sign(y_computed) == np.sign(gb.Y)) / len(gb.Y)\n",
    "    return  -mse(y_computed, gb.Y) * (np.exp((sol.get_max_depth() / 10))), right_sign_100"
   ]
  },
  {
   "cell_type": "code",
   "execution_count": 79,
   "metadata": {},
   "outputs": [],
   "source": [
    "# result = np.sin((gb.X[0] * 0.499999) + ((gb.X[1] + gb.X[2]) * 0.2500002)) * 7.643017e6\n",
    "# print(mse(result,gb.Y))"
   ]
  },
  {
   "cell_type": "markdown",
   "metadata": {},
   "source": [
    "## EA helper functions"
   ]
  },
  {
   "cell_type": "code",
   "execution_count": 80,
   "metadata": {},
   "outputs": [],
   "source": [
    "def parent_selection(population: list[Individual], scores, worst_score):\n",
    "    # windowing    \n",
    "    scores_prime = [(s-worst_score) for s in scores]\n",
    "    # print(len(population), len(scores))\n",
    "    total = sum(scores_prime)\n",
    "    # if all population doesn't have some score\n",
    "    if total != 0:\n",
    "        probabilities = [s/total for s in scores_prime]\n",
    "\n",
    "        parents = random.choices(population, probabilities, k=2)\n",
    "            \n",
    "        return parents[0], parents[1]\n",
    "    \n",
    "    return population[0], population[1]\n",
    "\n",
    "def xover(parent1, parent2)-> tuple[Tree, tuple]:\n",
    "    # parents = random.choices(population, k=2)\n",
    "\n",
    "    # reproduce\n",
    "    c1 = copy.deepcopy(parent1.genome)\n",
    "    c2 = copy.deepcopy(parent2.genome)\n",
    "\n",
    "    success = swap_subtrees(c1, c2)\n",
    "\n",
    "    c_fitness = fitness(c2)\n",
    "\n",
    "    if not success:\n",
    "        # mutation\n",
    "        mutation(c2)\n",
    "\n",
    "    return c2, c_fitness\n",
    "\n",
    "def tournament(population):\n",
    "    # generate a certain number of tournaments\n",
    "    n_tour = 3*gb.PROBLEM_SIZE\n",
    "    winners = []\n",
    "    # for each tournament find a winner for a portion of the population\n",
    "    for i in range(n_tour):\n",
    "        start =int( i*len(population)/n_tour)\n",
    "        end =int( (i+1)*len(population)/ n_tour)\n",
    "        p_i = population[start : end]\n",
    "        print(p_i)\n",
    "        w_i = ea(p_i)\n",
    "        winners.append(w_i)\n",
    "    print(f\"winners: {winners}\")\n",
    "    winners , scores = sort_individuals(winners)\n",
    "    # for w in winners:\n",
    "    #     # print(f\"winner's mse {mse(w.genome.root.evaluate_tree_from_node(), gb.Y)}\")\n",
    "    #     print(f\"winner's fitness {w.fitness}\")\n",
    "\n",
    "    # get the best winner/s\n",
    "    # check if there are pari merito\n",
    "    best_score = np.max(scores)\n",
    "    return [winners[i] for i in range(len(winners)) if scores[i]==best_score]\n",
    "    # return winners\n",
    "\n",
    "def fine_tuning(best: Individual):\n",
    "    genome = best.genome\n",
    "    best_fitness = best.fitness\n",
    "\n",
    "    n_no_inc = 0\n",
    "\n",
    "    leaves = genome.get_leaves_nodes()\n",
    "\n",
    "    max_iterations = MAX_ITERATIONS // 10\n",
    "    for i in range(max_iterations):\n",
    "        leaf = np.random.choice(leaves)\n",
    "        new_f = tune_constant(leaf,genome, best_fitness)\n",
    "\n",
    "        if new_f > best_fitness:\n",
    "            best_fitness = new_f\n",
    "            n_no_inc = 0\n",
    "        else:\n",
    "            n_no_inc += 1\n",
    "\n",
    "        if i % 5000 == 0 and i != 0:\n",
    "            print(best_fitness)\n",
    "\n",
    "        if n_no_inc > 1000:\n",
    "            print(\"Early stopping\")\n",
    "            break\n",
    "\n",
    "    # print(\"New best fitness:\", best_fitness)\n",
    "    # genome.draw_tree()\n",
    "    best.fitness = best_fitness\n",
    "\n",
    "\n",
    "def tune_constant(node: TreeNode, curr_genome, curr_fitness):\n",
    "    mutation_factor = 1.002\n",
    "    improve = True\n",
    "    direction_changed = False\n",
    "    while improve:\n",
    "        if node.value in gb.VARIABLES_MAP:\n",
    "            node.coefficient *= mutation_factor  # Modify costant\n",
    "            if round(node.coefficient)!=0: \n",
    "                node.coefficient = round(node.coefficient,4)\n",
    "        else:\n",
    "            node.value *= mutation_factor\n",
    "            if round(node.value)!=0: \n",
    "                node.value = round(node.value,4)\n",
    "                \n",
    "        new_mse, right_sign = fitness(curr_genome)\n",
    "        new_fitness = ( new_mse, right_sign)\n",
    "        # Aggiorna la soluzione migliore\n",
    "        if new_fitness > curr_fitness:\n",
    "            curr_fitness = new_fitness\n",
    "            mutation_factor/=mutation_factor\n",
    "        else:\n",
    "            if node.value in gb.VARIABLES_MAP:\n",
    "                node.coefficient /= mutation_factor  # Revert change\n",
    "            else:\n",
    "                node.value /= mutation_factor\n",
    "            if not direction_changed:\n",
    "                direction_changed = True\n",
    "                mutation_factor = 0.998 # try to explore backward\n",
    "            else: \n",
    "                improve = False\n",
    "    \n",
    "    return curr_fitness    \n",
    "\n",
    "\n",
    "def ea(population, iterations=200, best=None, best_score=-1, prev_score=0):\n",
    "    # print(population)\n",
    "    scores = []\n",
    "    offsprings = []\n",
    "    worst_score = 0\n",
    "\n",
    "\n",
    "    # Initialize stopping condition for maximization problem\n",
    "    min_iterations = POPULATION_SIZE  # Wait for at least one generation\n",
    "    patience = int(MAX_ITERATIONS / 5)  # Wait for half a generation worth of iterations\n",
    "    stagnation_counter = 0\n",
    "  \n",
    "\n",
    "\n",
    "    for ind in population:\n",
    "        ind.fitness = fitness(ind.genome)\n",
    "    population, scores = sort_individuals(population)\n",
    "\n",
    "    for i in tqdm(range(iterations)):\n",
    "    \n",
    "        for _ in range(OFFSPRING_SIZE):\n",
    "            parent1, parent2 = parent_selection(population, scores, worst_score)\n",
    "            # crossover\n",
    "            if random.random() < 0.75:\n",
    "                child, c_fitness = xover(parent1, parent2)\n",
    "        \n",
    "                offsprings.append(Individual(child, c_fitness))\n",
    "\n",
    "            # mutation\n",
    "            else :\n",
    "                # take a random individual and mutate it\n",
    "                ind = copy.deepcopy(random.choice([parent1,parent2]))\n",
    "\n",
    "                mutation(ind.genome)\n",
    "                # recompute fitness\n",
    "                ind.fitness = fitness(ind.genome)\n",
    "                offsprings.append(ind)\n",
    "\n",
    "        population.extend(offsprings)\n",
    "        offsprings = []\n",
    "        \n",
    "        # sort population according to score based on fitness         \n",
    "        population, scores = sort_individuals(population)\n",
    "        \n",
    "        score = scores[0] # best sscore in currrent population\n",
    "\n",
    "        \n",
    "        if i % patience and i > min_iterations == 0:\n",
    "            print(f\"iteration {i} mse {mse(population[0].genome.root.evaluate_tree_from_node(), gb.Y)}\")\n",
    "            if score > best_score*(1.01):\n",
    "                #print(f\"new best score : {score}, old score : {best_score}\")\n",
    "                best = population[0]\n",
    "                best_score = score\n",
    "                stagnation_counter = 0\n",
    "            elif score <= best_score*1.01 and score >= best_score*0.99:\n",
    "                stagnation_counter+=1\n",
    "                if stagnation_counter == 3:\n",
    "                    print(\"STOP\")\n",
    "                    break\n",
    "            # put again the best one in population\n",
    "            else: \n",
    "                #print(\"valhalla\")\n",
    "                population.append(best)\n",
    "                population,scores = sort_individuals(population)\n",
    "                # print(f\"valhallla {i}: scores {scores}\\n\")ù\n",
    "                stagnation_counter = 0\n",
    "\n",
    "        # remove worst individual\n",
    "        population = population[:POPULATION_SIZE]\n",
    "        scores = scores[:POPULATION_SIZE]\n",
    "\n",
    "        worst_score = scores[OFFSPRING_SIZE-1] # if worst_score > scores[-1] else worst_score\n",
    "\n",
    "\n",
    "    print(f\"winner's mse {mse(population[0].genome.root.evaluate_tree_from_node(), gb.Y)}\")\n",
    "    \n",
    "    return population[0]"
   ]
  },
  {
   "cell_type": "code",
   "execution_count": 81,
   "metadata": {},
   "outputs": [
    {
     "data": {
      "text/plain": [
       "True"
      ]
     },
     "execution_count": 81,
     "metadata": {},
     "output_type": "execute_result"
    }
   ],
   "source": [
    "(98,-1) > (98, -2)"
   ]
  },
  {
   "cell_type": "markdown",
   "metadata": {},
   "source": [
    "## Main"
   ]
  },
  {
   "cell_type": "code",
   "execution_count": 82,
   "metadata": {},
   "outputs": [
    {
     "name": "stdout",
     "output_type": "stream",
     "text": [
      "[Individual(genome=<tree.Tree object at 0x000002C09B120DA0>, fitness=0), Individual(genome=<tree.Tree object at 0x000002C09A80BD40>, fitness=0), Individual(genome=<tree.Tree object at 0x000002C09B123440>, fitness=0), Individual(genome=<tree.Tree object at 0x000002C0FFFA7230>, fitness=0), Individual(genome=<tree.Tree object at 0x000002C09B123800>, fitness=0), Individual(genome=<tree.Tree object at 0x000002C0FFF0B3E0>, fitness=0)]\n"
     ]
    },
    {
     "data": {
      "application/vnd.jupyter.widget-view+json": {
       "model_id": "f117beca0d754c9b9d78be16119bf204",
       "version_major": 2,
       "version_minor": 0
      },
      "text/plain": [
       "  0%|          | 0/200 [00:00<?, ?it/s]"
      ]
     },
     "metadata": {},
     "output_type": "display_data"
    },
    {
     "name": "stdout",
     "output_type": "stream",
     "text": [
      "winner's mse 2961443696633332.5\n",
      "[Individual(genome=<tree.Tree object at 0x000002C0FFF9FC20>, fitness=0), Individual(genome=<tree.Tree object at 0x000002C09A2FF170>, fitness=0), Individual(genome=<tree.Tree object at 0x000002C09A2FFA10>, fitness=0), Individual(genome=<tree.Tree object at 0x000002C09A2FEB70>, fitness=0), Individual(genome=<tree.Tree object at 0x000002C0FFF909E0>, fitness=0), Individual(genome=<tree.Tree object at 0x000002C09A8029F0>, fitness=0), Individual(genome=<tree.Tree object at 0x000002C0FFFA1880>, fitness=0)]\n"
     ]
    },
    {
     "data": {
      "application/vnd.jupyter.widget-view+json": {
       "model_id": "5c0377a7fd404f25b7646552b95fcb12",
       "version_major": 2,
       "version_minor": 0
      },
      "text/plain": [
       "  0%|          | 0/200 [00:00<?, ?it/s]"
      ]
     },
     "metadata": {},
     "output_type": "display_data"
    },
    {
     "name": "stdout",
     "output_type": "stream",
     "text": [
      "winner's mse 1995138202777071.2\n",
      "[Individual(genome=<tree.Tree object at 0x000002C0FFFA0CB0>, fitness=0), Individual(genome=<tree.Tree object at 0x000002C09A3612B0>, fitness=0), Individual(genome=<tree.Tree object at 0x000002C09A80AC30>, fitness=0), Individual(genome=<tree.Tree object at 0x000002C09A360D40>, fitness=0), Individual(genome=<tree.Tree object at 0x000002C09A361160>, fitness=0), Individual(genome=<tree.Tree object at 0x000002C0FFF0A360>, fitness=0), Individual(genome=<tree.Tree object at 0x000002C0FFFD0CB0>, fitness=0)]\n"
     ]
    },
    {
     "data": {
      "application/vnd.jupyter.widget-view+json": {
       "model_id": "cd325c6733af4b279e5783a107c43cf6",
       "version_major": 2,
       "version_minor": 0
      },
      "text/plain": [
       "  0%|          | 0/200 [00:00<?, ?it/s]"
      ]
     },
     "metadata": {},
     "output_type": "display_data"
    },
    {
     "name": "stdout",
     "output_type": "stream",
     "text": [
      "winner's mse 2034202840028672.0\n",
      "[Individual(genome=<tree.Tree object at 0x000002C09A361010>, fitness=0), Individual(genome=<tree.Tree object at 0x000002C09A358B60>, fitness=0), Individual(genome=<tree.Tree object at 0x000002C09A3604A0>, fitness=0), Individual(genome=<tree.Tree object at 0x000002C09A803740>, fitness=0), Individual(genome=<tree.Tree object at 0x000002C09A363830>, fitness=0), Individual(genome=<tree.Tree object at 0x000002C09A362BA0>, fitness=0)]\n"
     ]
    },
    {
     "data": {
      "application/vnd.jupyter.widget-view+json": {
       "model_id": "089e3f605ac749e68812850ea2b4e197",
       "version_major": 2,
       "version_minor": 0
      },
      "text/plain": [
       "  0%|          | 0/200 [00:00<?, ?it/s]"
      ]
     },
     "metadata": {},
     "output_type": "display_data"
    },
    {
     "name": "stdout",
     "output_type": "stream",
     "text": [
      "winner's mse 2961696504739857.0\n",
      "[Individual(genome=<tree.Tree object at 0x000002C09A363740>, fitness=0), Individual(genome=<tree.Tree object at 0x000002C09A3EA1B0>, fitness=0), Individual(genome=<tree.Tree object at 0x000002C09A3EA3C0>, fitness=0), Individual(genome=<tree.Tree object at 0x000002C0FFFA3F50>, fitness=0), Individual(genome=<tree.Tree object at 0x000002C0FFF0ACF0>, fitness=0), Individual(genome=<tree.Tree object at 0x000002C09B1222A0>, fitness=0), Individual(genome=<tree.Tree object at 0x000002C09A3EA0C0>, fitness=0)]\n"
     ]
    },
    {
     "data": {
      "application/vnd.jupyter.widget-view+json": {
       "model_id": "9d511dcf69ae4d32a6a83749fd4b3e8d",
       "version_major": 2,
       "version_minor": 0
      },
      "text/plain": [
       "  0%|          | 0/200 [00:00<?, ?it/s]"
      ]
     },
     "metadata": {},
     "output_type": "display_data"
    },
    {
     "name": "stdout",
     "output_type": "stream",
     "text": [
      "winner's mse 2961460908830566.5\n",
      "[Individual(genome=<tree.Tree object at 0x000002C09A80AC90>, fitness=0), Individual(genome=<tree.Tree object at 0x000002C09A3EBB90>, fitness=0), Individual(genome=<tree.Tree object at 0x000002C0FFF92120>, fitness=0), Individual(genome=<tree.Tree object at 0x000002C09A3E82C0>, fitness=0), Individual(genome=<tree.Tree object at 0x000002C09A3E9FD0>, fitness=0), Individual(genome=<tree.Tree object at 0x000002C09B1205F0>, fitness=0), Individual(genome=<tree.Tree object at 0x000002C09A809370>, fitness=0)]\n"
     ]
    },
    {
     "data": {
      "application/vnd.jupyter.widget-view+json": {
       "model_id": "2ba04bdba7c3402db2b83860ca53d439",
       "version_major": 2,
       "version_minor": 0
      },
      "text/plain": [
       "  0%|          | 0/200 [00:00<?, ?it/s]"
      ]
     },
     "metadata": {},
     "output_type": "display_data"
    },
    {
     "name": "stdout",
     "output_type": "stream",
     "text": [
      "winner's mse 2222827307622658.5\n",
      "[Individual(genome=<tree.Tree object at 0x000002C09A3E9B20>, fitness=0), Individual(genome=<tree.Tree object at 0x000002C0FFF9AE70>, fitness=0), Individual(genome=<tree.Tree object at 0x000002C09A3E91F0>, fitness=0), Individual(genome=<tree.Tree object at 0x000002C09A3EADE0>, fitness=0), Individual(genome=<tree.Tree object at 0x000002C09B1207A0>, fitness=0), Individual(genome=<tree.Tree object at 0x000002C0FFF9B140>, fitness=0)]\n"
     ]
    },
    {
     "data": {
      "application/vnd.jupyter.widget-view+json": {
       "model_id": "d1c6a6738cd24243b0cce5aac084a223",
       "version_major": 2,
       "version_minor": 0
      },
      "text/plain": [
       "  0%|          | 0/200 [00:00<?, ?it/s]"
      ]
     },
     "metadata": {},
     "output_type": "display_data"
    },
    {
     "name": "stdout",
     "output_type": "stream",
     "text": [
      "winner's mse 2158828561504348.2\n",
      "[Individual(genome=<tree.Tree object at 0x000002C0FFF9BE90>, fitness=0), Individual(genome=<tree.Tree object at 0x000002C0FFF9B9E0>, fitness=0), Individual(genome=<tree.Tree object at 0x000002C0FFF9AA20>, fitness=0), Individual(genome=<tree.Tree object at 0x000002C0FFF991C0>, fitness=0), Individual(genome=<tree.Tree object at 0x000002C09A35A0F0>, fitness=0), Individual(genome=<tree.Tree object at 0x000002C09A301F10>, fitness=0), Individual(genome=<tree.Tree object at 0x000002C09B121160>, fitness=0)]\n"
     ]
    },
    {
     "data": {
      "application/vnd.jupyter.widget-view+json": {
       "model_id": "b82c6d71057e41498f90821b4c0a98c2",
       "version_major": 2,
       "version_minor": 0
      },
      "text/plain": [
       "  0%|          | 0/200 [00:00<?, ?it/s]"
      ]
     },
     "metadata": {},
     "output_type": "display_data"
    },
    {
     "name": "stdout",
     "output_type": "stream",
     "text": [
      "winner's mse 2961459666720265.0\n",
      "[Individual(genome=<tree.Tree object at 0x000002C0FFF5DA00>, fitness=0), Individual(genome=<tree.Tree object at 0x000002C0FFF5CAA0>, fitness=0), Individual(genome=<tree.Tree object at 0x000002C0FFF5C5C0>, fitness=0), Individual(genome=<tree.Tree object at 0x000002C09A2FECC0>, fitness=0), Individual(genome=<tree.Tree object at 0x000002C0FFF5F8F0>, fitness=0), Individual(genome=<tree.Tree object at 0x000002C09A2FDAF0>, fitness=0), Individual(genome=<tree.Tree object at 0x000002C0FFF5D7F0>, fitness=0)]\n"
     ]
    },
    {
     "data": {
      "application/vnd.jupyter.widget-view+json": {
       "model_id": "1ba58827db304e299a10ba475d8517a3",
       "version_major": 2,
       "version_minor": 0
      },
      "text/plain": [
       "  0%|          | 0/200 [00:00<?, ?it/s]"
      ]
     },
     "metadata": {},
     "output_type": "display_data"
    },
    {
     "name": "stdout",
     "output_type": "stream",
     "text": [
      "winner's mse 1902651915150295.0\n",
      "winners: [Individual(genome=<tree.Tree object at 0x000002C0FFF1F2C0>, fitness=(np.float64(-4882595214620193.0), np.float64(81.66))), Individual(genome=<tree.Tree object at 0x000002C09B123050>, fitness=(np.float64(-2693154875349987.5), np.float64(77.38))), Individual(genome=<tree.Tree object at 0x000002C0FFF9F7D0>, fitness=(np.float64(-2745886620008822.5), np.float64(77.38))), Individual(genome=<tree.Tree object at 0x000002C09B121220>, fitness=(np.float64(-4418331992688744.5), np.float64(81.18))), Individual(genome=<tree.Tree object at 0x000002C0FFFA4B90>, fitness=(np.float64(-3617136522229177.0), np.float64(77.38))), Individual(genome=<tree.Tree object at 0x000002C09A3EFF50>, fitness=(np.float64(-3316068676102931.5), np.float64(77.38))), Individual(genome=<tree.Tree object at 0x000002C0FFE8DCD0>, fitness=(np.float64(-2636799159416363.0), np.float64(77.38))), Individual(genome=<tree.Tree object at 0x000002C0FFF0B650>, fitness=(np.float64(-3617135005112229.0), np.float64(77.38))), Individual(genome=<tree.Tree object at 0x000002C0FFF1E300>, fitness=(np.float64(-2323904296983300.0), np.float64(77.38)))]\n",
      "AO\n",
      "60\n"
     ]
    },
    {
     "data": {
      "image/svg+xml": [
       "<?xml version=\"1.0\" encoding=\"UTF-8\" standalone=\"no\"?>\n",
       "<!DOCTYPE svg PUBLIC \"-//W3C//DTD SVG 1.1//EN\"\n",
       " \"http://www.w3.org/Graphics/SVG/1.1/DTD/svg11.dtd\">\n",
       "<!-- Generated by graphviz version 12.2.1 (20241206.2353)\n",
       " -->\n",
       "<!-- Pages: 1 -->\n",
       "<svg width=\"184pt\" height=\"133pt\"\n",
       " viewBox=\"0.00 0.00 184.25 132.50\" xmlns=\"http://www.w3.org/2000/svg\" xmlns:xlink=\"http://www.w3.org/1999/xlink\">\n",
       "<g id=\"graph0\" class=\"graph\" transform=\"scale(1 1) rotate(0) translate(4 128.5)\">\n",
       "<polygon fill=\"white\" stroke=\"none\" points=\"-4,4 -4,-128.5 180.25,-128.5 180.25,4 -4,4\"/>\n",
       "<!-- 3027951402160 -->\n",
       "<g id=\"node1\" class=\"node\">\n",
       "<title>3027951402160</title>\n",
       "<ellipse fill=\"none\" stroke=\"black\" cx=\"75\" cy=\"-106.5\" rx=\"27\" ry=\"18\"/>\n",
       "<text text-anchor=\"middle\" x=\"75\" y=\"-101.45\" font-family=\"Times New Roman,serif\" font-size=\"14.00\">*</text>\n",
       "</g>\n",
       "<!-- 3027951402928 -->\n",
       "<g id=\"node2\" class=\"node\">\n",
       "<title>3027951402928</title>\n",
       "<polygon fill=\"none\" stroke=\"black\" points=\"54,-36 0,-36 0,0 54,0 54,-36\"/>\n",
       "<text text-anchor=\"middle\" x=\"27\" y=\"-12.95\" font-family=\"Times New Roman,serif\" font-size=\"14.00\">0.09</text>\n",
       "</g>\n",
       "<!-- 3027951402160&#45;&gt;3027951402928 -->\n",
       "<g id=\"edge1\" class=\"edge\">\n",
       "<title>3027951402160&#45;&gt;3027951402928</title>\n",
       "<path fill=\"none\" stroke=\"black\" d=\"M65.97,-89.23C59.24,-77.1 49.89,-60.26 42.04,-46.11\"/>\n",
       "<polygon fill=\"black\" stroke=\"black\" points=\"45.29,-44.75 37.38,-37.71 39.17,-48.15 45.29,-44.75\"/>\n",
       "<text text-anchor=\"middle\" x=\"59.42\" y=\"-57.2\" font-family=\"Times New Roman,serif\" font-size=\"14.00\">L</text>\n",
       "</g>\n",
       "<!-- 3027951394000 -->\n",
       "<g id=\"node3\" class=\"node\">\n",
       "<title>3027951394000</title>\n",
       "<polygon fill=\"none\" stroke=\"black\" points=\"176.25,-36 71.75,-36 71.75,0 176.25,0 176.25,-36\"/>\n",
       "<text text-anchor=\"middle\" x=\"124\" y=\"-12.95\" font-family=\"Times New Roman,serif\" font-size=\"14.00\">404351.07 &#160;X_0</text>\n",
       "</g>\n",
       "<!-- 3027951402160&#45;&gt;3027951394000 -->\n",
       "<g id=\"edge2\" class=\"edge\">\n",
       "<title>3027951402160&#45;&gt;3027951394000</title>\n",
       "<path fill=\"none\" stroke=\"black\" d=\"M84.22,-89.23C91.09,-77.1 100.63,-60.26 108.64,-46.11\"/>\n",
       "<polygon fill=\"black\" stroke=\"black\" points=\"111.52,-48.13 113.41,-37.7 105.43,-44.68 111.52,-48.13\"/>\n",
       "<text text-anchor=\"middle\" x=\"108.39\" y=\"-57.2\" font-family=\"Times New Roman,serif\" font-size=\"14.00\">R</text>\n",
       "</g>\n",
       "</g>\n",
       "</svg>\n"
      ],
      "text/plain": [
       "<graphviz.graphs.Digraph at 0x2c09a3eb710>"
      ]
     },
     "metadata": {},
     "output_type": "display_data"
    },
    {
     "data": {
      "application/vnd.jupyter.widget-view+json": {
       "model_id": "99a98a85ded543d4b303cd255eb629f5",
       "version_major": 2,
       "version_minor": 0
      },
      "text/plain": [
       "  0%|          | 0/4500 [00:00<?, ?it/s]"
      ]
     },
     "metadata": {},
     "output_type": "display_data"
    },
    {
     "name": "stdout",
     "output_type": "stream",
     "text": [
      "winner's mse 1902651915150295.0\n",
      "Best individual has formula:\n",
      "Best individual mse 1902651915150295.0\n"
     ]
    },
    {
     "data": {
      "image/svg+xml": [
       "<?xml version=\"1.0\" encoding=\"UTF-8\" standalone=\"no\"?>\n",
       "<!DOCTYPE svg PUBLIC \"-//W3C//DTD SVG 1.1//EN\"\n",
       " \"http://www.w3.org/Graphics/SVG/1.1/DTD/svg11.dtd\">\n",
       "<!-- Generated by graphviz version 12.2.1 (20241206.2353)\n",
       " -->\n",
       "<!-- Pages: 1 -->\n",
       "<svg width=\"198pt\" height=\"133pt\"\n",
       " viewBox=\"0.00 0.00 198.00 132.50\" xmlns=\"http://www.w3.org/2000/svg\" xmlns:xlink=\"http://www.w3.org/1999/xlink\">\n",
       "<g id=\"graph0\" class=\"graph\" transform=\"scale(1 1) rotate(0) translate(4 128.5)\">\n",
       "<polygon fill=\"white\" stroke=\"none\" points=\"-4,4 -4,-128.5 194,-128.5 194,4 -4,4\"/>\n",
       "<!-- 3026244773136 -->\n",
       "<g id=\"node1\" class=\"node\">\n",
       "<title>3026244773136</title>\n",
       "<ellipse fill=\"none\" stroke=\"black\" cx=\"111\" cy=\"-106.5\" rx=\"27\" ry=\"18\"/>\n",
       "<text text-anchor=\"middle\" x=\"111\" y=\"-101.45\" font-family=\"Times New Roman,serif\" font-size=\"14.00\">*</text>\n",
       "</g>\n",
       "<!-- 3026244764352 -->\n",
       "<g id=\"node2\" class=\"node\">\n",
       "<title>3026244764352</title>\n",
       "<polygon fill=\"none\" stroke=\"black\" points=\"118,-36 0,-36 0,0 118,0 118,-36\"/>\n",
       "<text text-anchor=\"middle\" x=\"59\" y=\"-12.95\" font-family=\"Times New Roman,serif\" font-size=\"14.00\">12211069.23 &#160;X_0</text>\n",
       "</g>\n",
       "<!-- 3026244773136&#45;&gt;3026244764352 -->\n",
       "<g id=\"edge1\" class=\"edge\">\n",
       "<title>3026244773136&#45;&gt;3026244764352</title>\n",
       "<path fill=\"none\" stroke=\"black\" d=\"M101.22,-89.23C93.93,-77.1 83.8,-60.26 75.3,-46.11\"/>\n",
       "<polygon fill=\"black\" stroke=\"black\" points=\"78.38,-44.45 70.23,-37.68 72.38,-48.06 78.38,-44.45\"/>\n",
       "<text text-anchor=\"middle\" x=\"93.78\" y=\"-57.2\" font-family=\"Times New Roman,serif\" font-size=\"14.00\">L</text>\n",
       "</g>\n",
       "<!-- 3026244772944 -->\n",
       "<g id=\"node3\" class=\"node\">\n",
       "<title>3026244772944</title>\n",
       "<polygon fill=\"none\" stroke=\"black\" points=\"190,-36 136,-36 136,0 190,0 190,-36\"/>\n",
       "<text text-anchor=\"middle\" x=\"163\" y=\"-12.95\" font-family=\"Times New Roman,serif\" font-size=\"14.00\">0.09</text>\n",
       "</g>\n",
       "<!-- 3026244773136&#45;&gt;3026244772944 -->\n",
       "<g id=\"edge2\" class=\"edge\">\n",
       "<title>3026244773136&#45;&gt;3026244772944</title>\n",
       "<path fill=\"none\" stroke=\"black\" d=\"M120.78,-89.23C128.07,-77.1 138.2,-60.26 146.7,-46.11\"/>\n",
       "<polygon fill=\"black\" stroke=\"black\" points=\"149.62,-48.06 151.77,-37.68 143.62,-44.45 149.62,-48.06\"/>\n",
       "<text text-anchor=\"middle\" x=\"146.16\" y=\"-57.2\" font-family=\"Times New Roman,serif\" font-size=\"14.00\">R</text>\n",
       "</g>\n",
       "</g>\n",
       "</svg>\n"
      ],
      "text/plain": [
       "<graphviz.graphs.Digraph at 0x2c09a34daf0>"
      ]
     },
     "metadata": {},
     "output_type": "display_data"
    },
    {
     "name": "stdout",
     "output_type": "stream",
     "text": [
      "tuning...\n",
      "Best individual has formula:\n",
      "Best individual mse 1901908023139040.8\n"
     ]
    },
    {
     "data": {
      "image/svg+xml": [
       "<?xml version=\"1.0\" encoding=\"UTF-8\" standalone=\"no\"?>\n",
       "<!DOCTYPE svg PUBLIC \"-//W3C//DTD SVG 1.1//EN\"\n",
       " \"http://www.w3.org/Graphics/SVG/1.1/DTD/svg11.dtd\">\n",
       "<!-- Generated by graphviz version 12.2.1 (20241206.2353)\n",
       " -->\n",
       "<!-- Pages: 1 -->\n",
       "<svg width=\"198pt\" height=\"133pt\"\n",
       " viewBox=\"0.00 0.00 198.00 132.50\" xmlns=\"http://www.w3.org/2000/svg\" xmlns:xlink=\"http://www.w3.org/1999/xlink\">\n",
       "<g id=\"graph0\" class=\"graph\" transform=\"scale(1 1) rotate(0) translate(4 128.5)\">\n",
       "<polygon fill=\"white\" stroke=\"none\" points=\"-4,4 -4,-128.5 194,-128.5 194,4 -4,4\"/>\n",
       "<!-- 3026244773136 -->\n",
       "<g id=\"node1\" class=\"node\">\n",
       "<title>3026244773136</title>\n",
       "<ellipse fill=\"none\" stroke=\"black\" cx=\"111\" cy=\"-106.5\" rx=\"27\" ry=\"18\"/>\n",
       "<text text-anchor=\"middle\" x=\"111\" y=\"-101.45\" font-family=\"Times New Roman,serif\" font-size=\"14.00\">*</text>\n",
       "</g>\n",
       "<!-- 3026244764352 -->\n",
       "<g id=\"node2\" class=\"node\">\n",
       "<title>3026244764352</title>\n",
       "<polygon fill=\"none\" stroke=\"black\" points=\"118,-36 0,-36 0,0 118,0 118,-36\"/>\n",
       "<text text-anchor=\"middle\" x=\"59\" y=\"-12.95\" font-family=\"Times New Roman,serif\" font-size=\"14.00\">12065267.11 &#160;X_0</text>\n",
       "</g>\n",
       "<!-- 3026244773136&#45;&gt;3026244764352 -->\n",
       "<g id=\"edge1\" class=\"edge\">\n",
       "<title>3026244773136&#45;&gt;3026244764352</title>\n",
       "<path fill=\"none\" stroke=\"black\" d=\"M101.22,-89.23C93.93,-77.1 83.8,-60.26 75.3,-46.11\"/>\n",
       "<polygon fill=\"black\" stroke=\"black\" points=\"78.38,-44.45 70.23,-37.68 72.38,-48.06 78.38,-44.45\"/>\n",
       "<text text-anchor=\"middle\" x=\"93.78\" y=\"-57.2\" font-family=\"Times New Roman,serif\" font-size=\"14.00\">L</text>\n",
       "</g>\n",
       "<!-- 3026244772944 -->\n",
       "<g id=\"node3\" class=\"node\">\n",
       "<title>3026244772944</title>\n",
       "<polygon fill=\"none\" stroke=\"black\" points=\"190,-36 136,-36 136,0 190,0 190,-36\"/>\n",
       "<text text-anchor=\"middle\" x=\"163\" y=\"-12.95\" font-family=\"Times New Roman,serif\" font-size=\"14.00\">0.09</text>\n",
       "</g>\n",
       "<!-- 3026244773136&#45;&gt;3026244772944 -->\n",
       "<g id=\"edge2\" class=\"edge\">\n",
       "<title>3026244773136&#45;&gt;3026244772944</title>\n",
       "<path fill=\"none\" stroke=\"black\" d=\"M120.78,-89.23C128.07,-77.1 138.2,-60.26 146.7,-46.11\"/>\n",
       "<polygon fill=\"black\" stroke=\"black\" points=\"149.62,-48.06 151.77,-37.68 143.62,-44.45 149.62,-48.06\"/>\n",
       "<text text-anchor=\"middle\" x=\"146.16\" y=\"-57.2\" font-family=\"Times New Roman,serif\" font-size=\"14.00\">R</text>\n",
       "</g>\n",
       "</g>\n",
       "</svg>\n"
      ],
      "text/plain": [
       "<graphviz.graphs.Digraph at 0x2c09a801b20>"
      ]
     },
     "metadata": {},
     "output_type": "display_data"
    }
   ],
   "source": [
    "state = random.getstate()\n",
    "population = [Individual(generate_initial_solution(seed=(i+2) * 10), 0) for i in range(POPULATION_SIZE)]\n",
    "offsprings = []\n",
    "random.setstate(state)\n",
    "\n",
    "# torunament -> use initial population\n",
    "winners = tournament(population)\n",
    "\n",
    "#generate population from winner/s\n",
    "population = []\n",
    "for w in winners:\n",
    "    for i in range(int(POPULATION_SIZE/len(winners))-1):\n",
    "        ind = copy.deepcopy(w)\n",
    "\n",
    "        mutation(ind.genome)\n",
    "        # recompute fitness\n",
    "        ind.fitness = fitness(ind.genome)\n",
    "        population.append(ind)\n",
    "    population.append(w)\n",
    "print(\"AO\")\n",
    "print(len(population))\n",
    "\n",
    "population, scores = sort_individuals(population)\n",
    "population[0].genome.draw_tree()\n",
    "\n",
    "# ea\n",
    "result = ea(population, MAX_ITERATIONS)\n",
    "print(\"Best individual has formula:\")\n",
    "print(f\"Best individual mse {mse(result.genome.root.evaluate_tree_from_node(), gb.Y)}\")\n",
    "result.genome.draw_tree() \n",
    "print(\"tuning...\")\n",
    "# fine tuning of constants\n",
    "fine_tuning(result)\n",
    "\n",
    "print(\"Best individual has formula:\")\n",
    "print(f\"Best individual mse {mse(result.genome.root.evaluate_tree_from_node(), gb.Y)}\")\n",
    "result.genome.draw_tree() \n"
   ]
  },
  {
   "cell_type": "code",
   "execution_count": 89,
   "metadata": {},
   "outputs": [
    {
     "name": "stdout",
     "output_type": "stream",
     "text": [
      "-41778786.60473115\n"
     ]
    }
   ],
   "source": [
    "\n",
    "print(gb.Y[0]-12065267.11*gb.X[0][0] * 0.9)"
   ]
  },
  {
   "cell_type": "markdown",
   "metadata": {},
   "source": [
    "## version 2"
   ]
  },
  {
   "cell_type": "code",
   "execution_count": 83,
   "metadata": {},
   "outputs": [
    {
     "data": {
      "text/plain": [
       "' POPULATION_SIZE = PROBLEM_SIZE*20\\nOFFSPRING_SIZE = POPULATION_SIZE*3\\nMAX_ITERATIONS = 1000 '"
      ]
     },
     "execution_count": 83,
     "metadata": {},
     "output_type": "execute_result"
    }
   ],
   "source": [
    "\"\"\" POPULATION_SIZE = PROBLEM_SIZE*20\n",
    "OFFSPRING_SIZE = POPULATION_SIZE*3\n",
    "MAX_ITERATIONS = 1000 \"\"\""
   ]
  },
  {
   "cell_type": "code",
   "execution_count": 84,
   "metadata": {},
   "outputs": [
    {
     "data": {
      "text/plain": [
       "' state = random.getstate()\\ninitial_population = [Individual(generate_initial_solution(seed=(i+2) * 10), 0) for i in range(POPULATION_SIZE)]\\noffsprings = []\\nrandom.setstate(state)\\n\\n# set the fitness\\nfor ind in initial_population:\\n    ind.fitness = fitness(ind.genome)\\ninitial_population, scores = sort_individuals(initial_population)\\ninitial_population[0].genome.draw_tree()\\n\\n# print(initial_population)\\n\\nbest = None\\nbest_score = 0\\nworst_score = 0\\nscores = [compute_score(initial_population[i], initial_population) for i in range(POPULATION_SIZE)]\\n\\nfor i in tqdm(range(MAX_ITERATIONS)):\\n# for i in range(MAX_ITERATIONS):\\n    for _ in range(OFFSPRING_SIZE):\\n        parent1, parent2 = parent_selection(initial_population, scores, worst_score)\\n        # crossover\\n        if random.random() < 0.65:\\n            child, c_fitness = xover(parent1, parent2)\\n    \\n            offsprings.append(Individual(child, c_fitness))\\n\\n        # mutation\\n        else :\\n            # take a random individual and mutate it\\n            ind = copy.deepcopy(random.choice([parent1,parent2]))\\n\\n            mutation(ind.genome)\\n            # recompute fitness\\n            ind.fitness = fitness(ind.genome)\\n            offsprings.append(ind)\\n\\n    \\n    # sort population according to score based on fitness         \\n    initial_population, scores = sort_individuals(offsprings)\\n    # print(f\"{i}: scores {scores}\\n\")\\n\\n    if i % 100 == 0:\\n        print(f\"iteration {i} best individual : {initial_population[0].fitness}\")\\n        # compute score \\n        score = scores[0]\\n        if score > best_score:\\n            print(f\"new best score : {score}, old score : {best_score}\")\\n            best = initial_population[0]\\n            best_score = score\\n\\n        # put again the best one in population\\n        else: \\n            print(\"valhalla\")\\n            initial_population.append(best)\\n            initial_population,scores = sort_individuals(initial_population)\\n            print(f\"valhallla {i}: scores {scores}\\n\")\\n\\n        worst_score = scores[OFFSPRING_SIZE-1] # if worst_score > scores[-1] else worst_score\\n   \\n   \\n    # remove worst individual\\n    initial_population = initial_population[:POPULATION_SIZE]\\n    scores = scores[:POPULATION_SIZE]\\n    # print(f\"cut {i}: scores {scores}\\n\")\\n \\n    # update the worst score\\n    # print(f\"iteration {i} \")\\n    offsprings = []\\n\\nprint(\"Best individual has formula:\")\\nprint(f\"Best individual mse {mse(initial_population[0].genome.root.evaluate_tree_from_node(VARIABLES_MAP, BINARY_OPERATORS, UNARY_OPERATORS), y)}\")\\ninitial_population[0].genome.draw_tree() '"
      ]
     },
     "execution_count": 84,
     "metadata": {},
     "output_type": "execute_result"
    }
   ],
   "source": [
    "\"\"\" state = random.getstate()\n",
    "initial_population = [Individual(generate_initial_solution(seed=(i+2) * 10), 0) for i in range(POPULATION_SIZE)]\n",
    "offsprings = []\n",
    "random.setstate(state)\n",
    "\n",
    "# set the fitness\n",
    "for ind in initial_population:\n",
    "    ind.fitness = fitness(ind.genome)\n",
    "initial_population, scores = sort_individuals(initial_population)\n",
    "initial_population[0].genome.draw_tree()\n",
    "\n",
    "# print(initial_population)\n",
    "\n",
    "best = None\n",
    "best_score = 0\n",
    "worst_score = 0\n",
    "scores = [compute_score(initial_population[i], initial_population) for i in range(POPULATION_SIZE)]\n",
    "\n",
    "for i in tqdm(range(MAX_ITERATIONS)):\n",
    "# for i in range(MAX_ITERATIONS):\n",
    "    for _ in range(OFFSPRING_SIZE):\n",
    "        parent1, parent2 = parent_selection(initial_population, scores, worst_score)\n",
    "        # crossover\n",
    "        if random.random() < 0.65:\n",
    "            child, c_fitness = xover(parent1, parent2)\n",
    "    \n",
    "            offsprings.append(Individual(child, c_fitness))\n",
    "\n",
    "        # mutation\n",
    "        else :\n",
    "            # take a random individual and mutate it\n",
    "            ind = copy.deepcopy(random.choice([parent1,parent2]))\n",
    "\n",
    "            mutation(ind.genome)\n",
    "            # recompute fitness\n",
    "            ind.fitness = fitness(ind.genome)\n",
    "            offsprings.append(ind)\n",
    "\n",
    "    \n",
    "    # sort population according to score based on fitness         \n",
    "    initial_population, scores = sort_individuals(offsprings)\n",
    "    # print(f\"{i}: scores {scores}\\n\")\n",
    "\n",
    "    if i % 100 == 0:\n",
    "        print(f\"iteration {i} best individual : {initial_population[0].fitness}\")\n",
    "        # compute score \n",
    "        score = scores[0]\n",
    "        if score > best_score:\n",
    "            print(f\"new best score : {score}, old score : {best_score}\")\n",
    "            best = initial_population[0]\n",
    "            best_score = score\n",
    "\n",
    "        # put again the best one in population\n",
    "        else: \n",
    "            print(\"valhalla\")\n",
    "            initial_population.append(best)\n",
    "            initial_population,scores = sort_individuals(initial_population)\n",
    "            print(f\"valhallla {i}: scores {scores}\\n\")\n",
    "\n",
    "        worst_score = scores[OFFSPRING_SIZE-1] # if worst_score > scores[-1] else worst_score\n",
    "   \n",
    "   \n",
    "    # remove worst individual\n",
    "    initial_population = initial_population[:POPULATION_SIZE]\n",
    "    scores = scores[:POPULATION_SIZE]\n",
    "    # print(f\"cut {i}: scores {scores}\\n\")\n",
    " \n",
    "    # update the worst score\n",
    "    # print(f\"iteration {i} \")\n",
    "    offsprings = []\n",
    "\n",
    "print(\"Best individual has formula:\")\n",
    "print(f\"Best individual mse {mse(initial_population[0].genome.root.evaluate_tree_from_node(VARIABLES_MAP, BINARY_OPERATORS, UNARY_OPERATORS), y)}\")\n",
    "initial_population[0].genome.draw_tree() \"\"\""
   ]
  }
 ],
 "metadata": {
  "kernelspec": {
   "display_name": "poetry_venv",
   "language": "python",
   "name": "python3"
  },
  "language_info": {
   "codemirror_mode": {
    "name": "ipython",
    "version": 3
   },
   "file_extension": ".py",
   "mimetype": "text/x-python",
   "name": "python",
   "nbconvert_exporter": "python",
   "pygments_lexer": "ipython3",
   "version": "3.12.6"
  }
 },
 "nbformat": 4,
 "nbformat_minor": 2
}
