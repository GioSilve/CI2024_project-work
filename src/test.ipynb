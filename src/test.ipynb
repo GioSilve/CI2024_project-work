{
 "cells": [
  {
   "cell_type": "code",
   "execution_count": 53,
   "metadata": {},
   "outputs": [],
   "source": [
    "import numpy as np\n",
    "import random\n",
    "import copy\n",
    "import globals as gb\n",
    "from icecream import ic\n",
    "from tqdm.auto import tqdm\n",
    "from dataclasses import dataclass\n",
    "from tree import Tree, swap_subtrees, generate_initial_solution\n",
    "from utils import mse, sort_individuals, are_compatible\n",
    "from mutations import mutation\n",
    "from tree_node import TreeNode"
   ]
  },
  {
   "cell_type": "markdown",
   "metadata": {},
   "source": [
    "## Problem selection"
   ]
  },
  {
   "cell_type": "code",
   "execution_count": 54,
   "metadata": {},
   "outputs": [],
   "source": [
    "gb.initialize_globals_for_problem(2)\n",
    "\n",
    "POPULATION_SIZE = gb.PROBLEM_SIZE * 20\n",
    "OFFSPRING_SIZE = int(POPULATION_SIZE / 4)\n",
    "# MAX_ITERATIONS = POPULATION_SIZE * 50\n",
    "MAX_ITERATIONS = POPULATION_SIZE *75\n"
   ]
  },
  {
   "cell_type": "markdown",
   "metadata": {},
   "source": [
    "## Steps\n",
    "- We treat a possible solution as a tree. The tree has attribute root, which is the root of the tree of class TreeNode and max_depth.\n",
    "- Generate random tree\n",
    "    - we need each variable at least once \n",
    "    - each variable has exactly one coefficient chosen as a random float number in the range [?, ?]\n",
    "    - each variable has exactly one unary operator\n",
    "    - unary operator is chosen as: 50% chance of \"\" (i.e. no change to the variable), 50% chance of choosing among all other unary operators\n",
    "        - check if the unary operator is appliable to the variable ->\n",
    "            ```\n",
    "            leaves_map = {}\n",
    "            for e in leaves:\n",
    "                available_unary_operators = [op for op in list(UNARY_OPERATORS.keys()) if op.is_applicable(e)]\n",
    "                chosen_unary_operator = 50% chance of \"\" (i.e. no change to the variable), 50% chance of choosing among [available_unary_operators]\n",
    "                leaves_map[e] = [chosen_unary_operator]\n",
    "            # leaves = [-2, 3]\n",
    "            # leaves_map = {-2: square, 3: log}\n",
    "            for e in leaves:\n",
    "                node = leaves_map[e]\n",
    "                node.left = null\n",
    "                node.right = e\n",
    "                # insert node to tree\n",
    "            ```\n",
    "    - number of leaves = nearest power of two greater than keys.length()\n",
    "    - number of actual leaves = [number of leaves] * 2\n",
    "    - number of coefficients = [number of leaves] - keys.length()\n",
    "    - number of binrary operators = total number of nodes in  tree with [number of leaves] leaves - [number of leaves]]\n",
    "    - validate tree\n",
    "    - if valid, return tree\n",
    "    - else, ?\n",
    "- Example:\n",
    "    - x.length() = 3\n",
    "    - number of leaves = 4\n",
    "    - number of actual leaves = 8\n",
    "    - number of coefficients = 1\n",
    "    - number of operands = 3\n",
    "\n",
    "    ```bash\n",
    "                    +\n",
    "            /                  \\\n",
    "            *                    +\n",
    "        /      \\           /        \\\n",
    "      u        1          1          u\n",
    "    /   \\    /   \\      /   \\       /  \\\n",
    "    nul  *  nul   *    nul    *     nul *\n",
    "    ```\n",
    "### EA approach\n",
    "- Individual is rapresented as a tree and a fitness\n",
    "    - fitness is a tuple of 2 values: (-mse, right_sign_100)\n",
    "        - right_sign_100 is the percentage of correct sign predictions\n",
    "        - mse is the mean squared error\n",
    "- Classic Genetic Programming\n",
    "    - Key elements \n",
    "    - Representation: tree structures\n",
    "    - Recombination: exchange of subtrees\n",
    "    - Mutation: random change in trees\n",
    "        - subtree mutation -> replace  entire subtree\n",
    "        - point  mutation -> change single node\n",
    "        - permutation -> exchange node right with left\n",
    "        - hoist -> take subtree and make it root\n",
    "        - expansion -> take random leaf and replace it with a new subtree\n",
    "        - collapse -> take a subtree and replace it with leaf\n",
    "    - Population model: generational\n",
    "    - Parent selection: fitness proportional\n",
    "    - Survivor selection: deterministic\n",
    "\n",
    "##next\n",
    "\n",
    "    - finish implementing mutations\n",
    "    - find way to reduce tree dimension\n",
    "    - add weights to opertors\n",
    "    - add check if fitness doesn't improve , stop early\n",
    "    - \n",
    "\n",
    "##problems\n",
    "    - overflow\n",
    "    - initial tree with 4xnodes has invalid values\n",
    "    - \n"
   ]
  },
  {
   "cell_type": "markdown",
   "metadata": {},
   "source": [
    "## Individual definition"
   ]
  },
  {
   "cell_type": "code",
   "execution_count": 55,
   "metadata": {},
   "outputs": [],
   "source": [
    "@dataclass\n",
    "class Individual:\n",
    "    genome: Tree\n",
    "    fitness: tuple"
   ]
  },
  {
   "cell_type": "markdown",
   "metadata": {},
   "source": [
    "## Fitness evaluation"
   ]
  },
  {
   "cell_type": "code",
   "execution_count": 56,
   "metadata": {},
   "outputs": [],
   "source": [
    "def fitness(sol: Tree):\n",
    "    y_computed = sol.root.evaluate_tree_from_node()\n",
    "    right_sign_100 = 100 * np.sum(np.sign(y_computed) == np.sign(gb.Y)) / len(gb.Y)\n",
    "    return  -mse(y_computed, gb.Y) * (np.exp((sol.get_max_depth() / 5))), right_sign_100"
   ]
  },
  {
   "cell_type": "code",
   "execution_count": 57,
   "metadata": {},
   "outputs": [],
   "source": [
    "# result = np.sin((gb.X[0] * 0.499999) + ((gb.X[1] + gb.X[2]) * 0.2500002)) * 7.643017e6\n",
    "# print(mse(result,gb.Y))\n"
   ]
  },
  {
   "cell_type": "markdown",
   "metadata": {},
   "source": [
    "## EA helper functions"
   ]
  },
  {
   "cell_type": "code",
   "execution_count": 58,
   "metadata": {},
   "outputs": [],
   "source": [
    "def parent_selection(population: list[Individual], scores, worst_score):\n",
    "    # windowing    \n",
    "    scores_prime = [(s-worst_score) for s in scores]\n",
    "    # print(len(population), len(scores))\n",
    "    total = sum(scores_prime)\n",
    "    # if all population doesn't have some score\n",
    "    if total != 0:\n",
    "        probabilities = [s/total for s in scores_prime]\n",
    "\n",
    "        parents = random.choices(population, probabilities, k=2)\n",
    "            \n",
    "        return parents[0], parents[1]\n",
    "    \n",
    "    return population[0], population[1]\n",
    "\n",
    "def xover(parent1, parent2)-> tuple[Tree, tuple]:\n",
    "    # parents = random.choices(population, k=2)\n",
    "\n",
    "    # reproduce\n",
    "    c1 = copy.deepcopy(parent1.genome)\n",
    "    c2 = copy.deepcopy(parent2.genome)\n",
    "\n",
    "    success = swap_subtrees(c1, c2)\n",
    "\n",
    "    c_fitness = fitness(c2)\n",
    "\n",
    "    if not success:\n",
    "        # mutation\n",
    "        mutation(c2)\n",
    "\n",
    "    return c2, c_fitness\n",
    "\n",
    "def tournament(population):\n",
    "    # generate a certain number of tournaments\n",
    "    n_tour = 3*gb.PROBLEM_SIZE\n",
    "    winners = []\n",
    "    # for each tournament find a winner for a portion of the population\n",
    "    for i in range(n_tour):\n",
    "        start =int( i*len(population)/n_tour)\n",
    "        end =int( (i+1)*len(population)/ n_tour)\n",
    "        p_i = population[start : end]\n",
    "        print(p_i)\n",
    "        w_i = ea(p_i, 50)\n",
    "        winners.append(w_i)\n",
    "    # print(f\"winners: {winners}\")\n",
    "    winners , scores = sort_individuals(winners)\n",
    "   \n",
    "    # get the best winner/s\n",
    "    # check if there are pari merito\n",
    "    # best_score = np.max(scores)\n",
    "    # return [winners[i] for i in range(len(winners)) if scores[i]==best_score]\n",
    "    return winners\n",
    "\n",
    "def fine_tuning(best: Individual):\n",
    "    genome = best.genome\n",
    "    best_fitness = best.fitness\n",
    "\n",
    "    n_no_inc = 0\n",
    "\n",
    "    leaves = genome.get_leaves_nodes()\n",
    "\n",
    "    max_iterations = MAX_ITERATIONS // 10\n",
    "    for i in range(max_iterations):\n",
    "        leaf = np.random.choice(leaves)\n",
    "        new_f = tune_constant(leaf,genome, best_fitness)\n",
    "\n",
    "        if new_f > best_fitness:\n",
    "            best_fitness = new_f\n",
    "            n_no_inc = 0\n",
    "        else:\n",
    "            n_no_inc += 1\n",
    "\n",
    "        if i % 5000 == 0 and i != 0:\n",
    "            print(best_fitness)\n",
    "\n",
    "        if n_no_inc > 1000:\n",
    "            print(\"Early stopping\")\n",
    "            break\n",
    "\n",
    "    # print(\"New best fitness:\", best_fitness)\n",
    "    # genome.draw_tree()\n",
    "    best.fitness = best_fitness\n",
    "\n",
    "\n",
    "def tune_constant(node: TreeNode, curr_genome, curr_fitness):\n",
    "    mutation_factor = 1.002\n",
    "    improve = True\n",
    "    direction_changed = False\n",
    "    while improve:\n",
    "        if node.value in gb.VARIABLES_MAP:\n",
    "            node.coefficient *= mutation_factor  # Modify costant\n",
    "            if round(node.coefficient)!=0: \n",
    "                node.coefficient = round(node.coefficient,4)\n",
    "        else:\n",
    "            node.value *= mutation_factor\n",
    "            if round(node.value)!=0: \n",
    "                node.value = round(node.value,4)\n",
    "                \n",
    "        new_mse, right_sign = fitness(curr_genome)\n",
    "        new_fitness = ( new_mse, right_sign)\n",
    "        # Aggiorna la soluzione migliore\n",
    "        if new_fitness > curr_fitness:\n",
    "            curr_fitness = new_fitness\n",
    "            mutation_factor/=mutation_factor\n",
    "        else:\n",
    "            if node.value in gb.VARIABLES_MAP:\n",
    "                node.coefficient /= mutation_factor  # Revert change\n",
    "            else:\n",
    "                node.value /= mutation_factor\n",
    "            if not direction_changed:\n",
    "                direction_changed = True\n",
    "                mutation_factor = 0.998 # try to explore backward\n",
    "            else: \n",
    "                improve = False\n",
    "    \n",
    "    return curr_fitness    \n",
    "\n",
    "\n",
    "def ea(population, iterations=200, best=None, best_score=-1, prev_score=0):\n",
    "    # print(population)\n",
    "    scores = []\n",
    "    offsprings = []\n",
    "    worst_score = 0\n",
    "\n",
    "\n",
    "    # Initialize stopping condition for maximization problem\n",
    "    min_iterations = POPULATION_SIZE  # Wait for at least one generation\n",
    "    patience = int(MAX_ITERATIONS / 5)  # Wait for half a generation worth of iterations\n",
    "    stagnation_counter = 0\n",
    "  \n",
    "\n",
    "\n",
    "    for ind in population:\n",
    "        ind.fitness = fitness(ind.genome)\n",
    "    population, scores = sort_individuals(population)\n",
    "\n",
    "    for i in tqdm(range(iterations)):\n",
    "    \n",
    "        for _ in range(OFFSPRING_SIZE):\n",
    "            parent1, parent2 = parent_selection(population, scores, worst_score)\n",
    "            # crossover\n",
    "            if random.random() < 0.65:\n",
    "                child, c_fitness = xover(parent1, parent2)\n",
    "        \n",
    "                offsprings.append(Individual(child, c_fitness))\n",
    "\n",
    "            # mutation\n",
    "            else :\n",
    "                # take a random individual and mutate it\n",
    "                ind = copy.deepcopy(random.choice([parent1,parent2]))\n",
    "\n",
    "                mutation(ind.genome)\n",
    "                # recompute fitness\n",
    "                ind.fitness = fitness(ind.genome)\n",
    "                offsprings.append(ind)\n",
    "\n",
    "        population.extend(offsprings)\n",
    "        offsprings = []\n",
    "        \n",
    "        # sort population according to score based on fitness         \n",
    "        population, scores = sort_individuals(population)\n",
    "        \n",
    "        score = scores[0] # best sscore in currrent population\n",
    "\n",
    "        \n",
    "        if i % patience and i > min_iterations == 0:\n",
    "            print(f\"iteration {i} mse {mse(population[0].genome.root.evaluate_tree_from_node(), gb.Y)}\")\n",
    "            if score > best_score*(1.01):\n",
    "                #print(f\"new best score : {score}, old score : {best_score}\")\n",
    "                best = population[0]\n",
    "                best_score = score\n",
    "                stagnation_counter = 0\n",
    "            elif score <= best_score*1.01 and score >= best_score*0.99:\n",
    "                stagnation_counter+=1\n",
    "                if stagnation_counter == 3:\n",
    "                    print(\"STOP\")\n",
    "                    break\n",
    "            # put again the best one in population\n",
    "            else: \n",
    "                #print(\"valhalla\")\n",
    "                population.append(best)\n",
    "                population,scores = sort_individuals(population)\n",
    "                # print(f\"valhallla {i}: scores {scores}\\n\")ù\n",
    "                stagnation_counter = 0\n",
    "\n",
    "        # remove worst individual\n",
    "        population = population[:POPULATION_SIZE]\n",
    "        scores = scores[:POPULATION_SIZE]\n",
    "\n",
    "        worst_score = scores[OFFSPRING_SIZE-1] # if worst_score > scores[-1] else worst_score\n",
    "\n",
    "\n",
    "    print(f\"winner's mse {mse(population[0].genome.root.evaluate_tree_from_node(), gb.Y)}\")\n",
    "    \n",
    "    return population[0]"
   ]
  },
  {
   "cell_type": "markdown",
   "metadata": {},
   "source": [
    "## Main"
   ]
  },
  {
   "cell_type": "code",
   "execution_count": null,
   "metadata": {},
   "outputs": [
    {
     "name": "stdout",
     "output_type": "stream",
     "text": [
      "[Individual(genome=<tree.Tree object at 0x000001C30875DE50>, fitness=0), Individual(genome=<tree.Tree object at 0x000001C30854FD70>, fitness=0), Individual(genome=<tree.Tree object at 0x000001C30875F080>, fitness=0), Individual(genome=<tree.Tree object at 0x000001C30875FE90>, fitness=0), Individual(genome=<tree.Tree object at 0x000001C3087D5DC0>, fitness=0), Individual(genome=<tree.Tree object at 0x000001C30869ECC0>, fitness=0)]\n"
     ]
    },
    {
     "data": {
      "application/vnd.jupyter.widget-view+json": {
       "model_id": "c0264b64760e4691b66fa3319216fdf0",
       "version_major": 2,
       "version_minor": 0
      },
      "text/plain": [
       "  0%|          | 0/200 [00:00<?, ?it/s]"
      ]
     },
     "metadata": {},
     "output_type": "display_data"
    },
    {
     "name": "stdout",
     "output_type": "stream",
     "text": [
      "winner's mse 2961516453106746.0\n",
      "[Individual(genome=<tree.Tree object at 0x000001C30869E900>, fitness=0), Individual(genome=<tree.Tree object at 0x000001C30869F1A0>, fitness=0), Individual(genome=<tree.Tree object at 0x000001C30869D280>, fitness=0), Individual(genome=<tree.Tree object at 0x000001C3087D6180>, fitness=0), Individual(genome=<tree.Tree object at 0x000001C30869F110>, fitness=0), Individual(genome=<tree.Tree object at 0x000001C30869D340>, fitness=0), Individual(genome=<tree.Tree object at 0x000001C308654F80>, fitness=0)]\n"
     ]
    },
    {
     "data": {
      "application/vnd.jupyter.widget-view+json": {
       "model_id": "2130e15de54d4416b96eae058cc4c969",
       "version_major": 2,
       "version_minor": 0
      },
      "text/plain": [
       "  0%|          | 0/200 [00:00<?, ?it/s]"
      ]
     },
     "metadata": {},
     "output_type": "display_data"
    },
    {
     "name": "stdout",
     "output_type": "stream",
     "text": [
      "winner's mse 1979610202384494.2\n",
      "[Individual(genome=<tree.Tree object at 0x000001C30869E150>, fitness=0), Individual(genome=<tree.Tree object at 0x000001C308656900>, fitness=0), Individual(genome=<tree.Tree object at 0x000001C308656000>, fitness=0), Individual(genome=<tree.Tree object at 0x000001C308654860>, fitness=0), Individual(genome=<tree.Tree object at 0x000001C3086C2570>, fitness=0), Individual(genome=<tree.Tree object at 0x000001C3086C2300>, fitness=0), Individual(genome=<tree.Tree object at 0x000001C308542060>, fitness=0)]\n"
     ]
    },
    {
     "data": {
      "application/vnd.jupyter.widget-view+json": {
       "model_id": "0bde896b3d104f368e6cb4392df6cc6d",
       "version_major": 2,
       "version_minor": 0
      },
      "text/plain": [
       "  0%|          | 0/200 [00:00<?, ?it/s]"
      ]
     },
     "metadata": {},
     "output_type": "display_data"
    },
    {
     "name": "stdout",
     "output_type": "stream",
     "text": [
      "winner's mse 2961507648451757.0\n",
      "[Individual(genome=<tree.Tree object at 0x000001C3086C0B60>, fitness=0), Individual(genome=<tree.Tree object at 0x000001C3086C1310>, fitness=0), Individual(genome=<tree.Tree object at 0x000001C3086C2150>, fitness=0), Individual(genome=<tree.Tree object at 0x000001C308542B10>, fitness=0), Individual(genome=<tree.Tree object at 0x000001C3086EACC0>, fitness=0), Individual(genome=<tree.Tree object at 0x000001C3086EA270>, fitness=0)]\n"
     ]
    },
    {
     "data": {
      "application/vnd.jupyter.widget-view+json": {
       "model_id": "bbf16c57a7f3474199aa6367a080d6e7",
       "version_major": 2,
       "version_minor": 0
      },
      "text/plain": [
       "  0%|          | 0/200 [00:00<?, ?it/s]"
      ]
     },
     "metadata": {},
     "output_type": "display_data"
    },
    {
     "name": "stdout",
     "output_type": "stream",
     "text": [
      "winner's mse 1927078955938538.8\n",
      "[Individual(genome=<tree.Tree object at 0x000001C308730320>, fitness=0), Individual(genome=<tree.Tree object at 0x000001C3086EAC60>, fitness=0), Individual(genome=<tree.Tree object at 0x000001C3086EA870>, fitness=0), Individual(genome=<tree.Tree object at 0x000001C308654E30>, fitness=0), Individual(genome=<tree.Tree object at 0x000001C30854FEF0>, fitness=0), Individual(genome=<tree.Tree object at 0x000001C3085E2EA0>, fitness=0), Individual(genome=<tree.Tree object at 0x000001C3085E3BC0>, fitness=0)]\n"
     ]
    },
    {
     "data": {
      "application/vnd.jupyter.widget-view+json": {
       "model_id": "7b884d5be64241208d9b404646d65aef",
       "version_major": 2,
       "version_minor": 0
      },
      "text/plain": [
       "  0%|          | 0/200 [00:00<?, ?it/s]"
      ]
     },
     "metadata": {},
     "output_type": "display_data"
    },
    {
     "name": "stdout",
     "output_type": "stream",
     "text": [
      "winner's mse 2961510086717476.0\n",
      "[Individual(genome=<tree.Tree object at 0x000001C3085E2900>, fitness=0), Individual(genome=<tree.Tree object at 0x000001C308710BF0>, fitness=0), Individual(genome=<tree.Tree object at 0x000001C3084E2630>, fitness=0), Individual(genome=<tree.Tree object at 0x000001C308713E90>, fitness=0), Individual(genome=<tree.Tree object at 0x000001C308710320>, fitness=0), Individual(genome=<tree.Tree object at 0x000001C3085E3FE0>, fitness=0), Individual(genome=<tree.Tree object at 0x000001C308710050>, fitness=0)]\n"
     ]
    },
    {
     "data": {
      "application/vnd.jupyter.widget-view+json": {
       "model_id": "32f9c5bab9fc43829c28c5cd752d82ac",
       "version_major": 2,
       "version_minor": 0
      },
      "text/plain": [
       "  0%|          | 0/200 [00:00<?, ?it/s]"
      ]
     },
     "metadata": {},
     "output_type": "display_data"
    },
    {
     "name": "stdout",
     "output_type": "stream",
     "text": [
      "winner's mse 2961511867692618.0\n",
      "[Individual(genome=<tree.Tree object at 0x000001C3087133B0>, fitness=0), Individual(genome=<tree.Tree object at 0x000001C3086E9340>, fitness=0), Individual(genome=<tree.Tree object at 0x000001C308712B70>, fitness=0), Individual(genome=<tree.Tree object at 0x000001C30875E030>, fitness=0), Individual(genome=<tree.Tree object at 0x000001C3085DC290>, fitness=0), Individual(genome=<tree.Tree object at 0x000001C30878FE00>, fitness=0)]\n"
     ]
    },
    {
     "data": {
      "application/vnd.jupyter.widget-view+json": {
       "model_id": "f06826f37d5348b19e102242cb2c850e",
       "version_major": 2,
       "version_minor": 0
      },
      "text/plain": [
       "  0%|          | 0/200 [00:00<?, ?it/s]"
      ]
     },
     "metadata": {},
     "output_type": "display_data"
    },
    {
     "name": "stdout",
     "output_type": "stream",
     "text": [
      "winner's mse 2129234242426896.0\n",
      "[Individual(genome=<tree.Tree object at 0x000001C30878C350>, fitness=0), Individual(genome=<tree.Tree object at 0x000001C3085DF650>, fitness=0), Individual(genome=<tree.Tree object at 0x000001C308731940>, fitness=0), Individual(genome=<tree.Tree object at 0x000001C3086E80B0>, fitness=0), Individual(genome=<tree.Tree object at 0x000001C3085BAAE0>, fitness=0), Individual(genome=<tree.Tree object at 0x000001C3086EA840>, fitness=0), Individual(genome=<tree.Tree object at 0x000001C3086724E0>, fitness=0)]\n"
     ]
    },
    {
     "data": {
      "application/vnd.jupyter.widget-view+json": {
       "model_id": "266a4bf7e67748b39b9eef8ca3ab2f3f",
       "version_major": 2,
       "version_minor": 0
      },
      "text/plain": [
       "  0%|          | 0/200 [00:00<?, ?it/s]"
      ]
     },
     "metadata": {},
     "output_type": "display_data"
    },
    {
     "name": "stdout",
     "output_type": "stream",
     "text": [
      "winner's mse 2961508522918920.0\n",
      "[Individual(genome=<tree.Tree object at 0x000001C308732ED0>, fitness=0), Individual(genome=<tree.Tree object at 0x000001C3085BBD70>, fitness=0), Individual(genome=<tree.Tree object at 0x000001C308540CE0>, fitness=0), Individual(genome=<tree.Tree object at 0x000001C3085E1880>, fitness=0), Individual(genome=<tree.Tree object at 0x000001C3086C2CC0>, fitness=0), Individual(genome=<tree.Tree object at 0x000001C308609CD0>, fitness=0), Individual(genome=<tree.Tree object at 0x000001C3085E1EB0>, fitness=0)]\n"
     ]
    },
    {
     "data": {
      "application/vnd.jupyter.widget-view+json": {
       "model_id": "c5a32b15fae848a0b8f0fe9976de4943",
       "version_major": 2,
       "version_minor": 0
      },
      "text/plain": [
       "  0%|          | 0/200 [00:00<?, ?it/s]"
      ]
     },
     "metadata": {},
     "output_type": "display_data"
    }
   ],
   "source": [
    "state = random.getstate()\n",
    "population = [Individual(generate_initial_solution(seed=(i+2) * 10), 0) for i in range(POPULATION_SIZE)]\n",
    "offsprings = []\n",
    "random.setstate(state)\n",
    "\n",
    "# torunament -> use initial population\n",
    "winners = tournament(population)\n",
    "\n",
    "#generate population from winner/s\n",
    "population = []\n",
    "for w in winners:\n",
    "    for i in range(int(POPULATION_SIZE/len(winners))-1):\n",
    "        ind = copy.deepcopy(w)\n",
    "\n",
    "        mutation(ind.genome)\n",
    "        # recompute fitness\n",
    "        ind.fitness = fitness(ind.genome)\n",
    "        population.append(ind)\n",
    "    population.append(w)\n",
    "\n",
    "\n",
    "population, scores = sort_individuals(population)\n",
    "population[0].genome.draw_tree()\n",
    "\n",
    "print(f\"Best individual mse {mse(population[0].genome.root.evaluate_tree_from_node(), gb.Y)}\")\n",
    "# ea\n",
    "result = ea(population, MAX_ITERATIONS, population[0], scores[0])\n",
    "print(\"Best individual has formula:\")\n",
    "result.genome.print_tree()\n",
    "print(f\"Best individual mse {mse(result.genome.root.evaluate_tree_from_node(), gb.Y)}\")\n",
    "result.genome.draw_tree() \n",
    "print(\"tuning...\")\n",
    "# fine tuning of constants\n",
    "fine_tuning(result)\n",
    "\n",
    "print(\"Best individual has formula:\")\n",
    "print(f\"Best individual mse {mse(result.genome.root.evaluate_tree_from_node(), gb.Y)}\")\n",
    "print(\"Best individual has formula:\")\n",
    "result.genome.print_tree()\n",
    "result.genome.draw_tree() \n"
   ]
  },
  {
   "cell_type": "code",
   "execution_count": 47,
   "metadata": {},
   "outputs": [
    {
     "name": "stdout",
     "output_type": "stream",
     "text": [
      "-34214523.49311387\n"
     ]
    }
   ],
   "source": [
    "\n",
    "print(gb.Y[0]-12065267.11*gb.X[0][0] * 0.9)"
   ]
  },
  {
   "cell_type": "code",
   "execution_count": 48,
   "metadata": {},
   "outputs": [
    {
     "data": {
      "text/plain": [
       "np.float64(1e-23)"
      ]
     },
     "execution_count": 48,
     "metadata": {},
     "output_type": "execute_result"
    }
   ],
   "source": [
    "x = 10e-12\n",
    "y = 1e-12\n",
    "z = x*y\n",
    "np.tan(z)"
   ]
  },
  {
   "cell_type": "code",
   "execution_count": 49,
   "metadata": {},
   "outputs": [
    {
     "name": "stdout",
     "output_type": "stream",
     "text": [
      "True\n"
     ]
    }
   ],
   "source": [
    "x = [1e-12]\n",
    "y = []\n",
    "print(are_compatible(\"+\", x, 2))"
   ]
  },
  {
   "cell_type": "code",
   "execution_count": 50,
   "metadata": {},
   "outputs": [
    {
     "data": {
      "text/plain": [
       "np.float64(2562.1146162335267)"
      ]
     },
     "execution_count": 50,
     "metadata": {},
     "output_type": "execute_result"
    }
   ],
   "source": [
    "x0 = gb.X[0]\n",
    "x1 = gb.X[1]\n",
    "res = ((x0 + -1.4220549) * (x1 / (1.1754677 / x1))) * ((x0 * ((x1 - 2.3935468) * -3.7704857e-12)) * x0)\n",
    "mse(res,gb.Y)"
   ]
  },
  {
   "cell_type": "markdown",
   "metadata": {},
   "source": [
    "## version 2"
   ]
  },
  {
   "cell_type": "code",
   "execution_count": 51,
   "metadata": {},
   "outputs": [
    {
     "data": {
      "text/plain": [
       "' POPULATION_SIZE = PROBLEM_SIZE*20\\nOFFSPRING_SIZE = POPULATION_SIZE*3\\nMAX_ITERATIONS = 1000 '"
      ]
     },
     "execution_count": 51,
     "metadata": {},
     "output_type": "execute_result"
    }
   ],
   "source": [
    "\"\"\" POPULATION_SIZE = PROBLEM_SIZE*20\n",
    "OFFSPRING_SIZE = POPULATION_SIZE*3\n",
    "MAX_ITERATIONS = 1000 \"\"\""
   ]
  },
  {
   "cell_type": "code",
   "execution_count": 52,
   "metadata": {},
   "outputs": [
    {
     "data": {
      "text/plain": [
       "' state = random.getstate()\\ninitial_population = [Individual(generate_initial_solution(seed=(i+2) * 10), 0) for i in range(POPULATION_SIZE)]\\noffsprings = []\\nrandom.setstate(state)\\n\\n# set the fitness\\nfor ind in initial_population:\\n    ind.fitness = fitness(ind.genome)\\ninitial_population, scores = sort_individuals(initial_population)\\ninitial_population[0].genome.draw_tree()\\n\\n# print(initial_population)\\n\\nbest = None\\nbest_score = 0\\nworst_score = 0\\nscores = [compute_score(initial_population[i], initial_population) for i in range(POPULATION_SIZE)]\\n\\nfor i in tqdm(range(MAX_ITERATIONS)):\\n# for i in range(MAX_ITERATIONS):\\n    for _ in range(OFFSPRING_SIZE):\\n        parent1, parent2 = parent_selection(initial_population, scores, worst_score)\\n        # crossover\\n        if random.random() < 0.65:\\n            child, c_fitness = xover(parent1, parent2)\\n    \\n            offsprings.append(Individual(child, c_fitness))\\n\\n        # mutation\\n        else :\\n            # take a random individual and mutate it\\n            ind = copy.deepcopy(random.choice([parent1,parent2]))\\n\\n            mutation(ind.genome)\\n            # recompute fitness\\n            ind.fitness = fitness(ind.genome)\\n            offsprings.append(ind)\\n\\n    \\n    # sort population according to score based on fitness         \\n    initial_population, scores = sort_individuals(offsprings)\\n    # print(f\"{i}: scores {scores}\\n\")\\n\\n    if i % 100 == 0:\\n        print(f\"iteration {i} best individual : {initial_population[0].fitness}\")\\n        # compute score \\n        score = scores[0]\\n        if score > best_score:\\n            print(f\"new best score : {score}, old score : {best_score}\")\\n            best = initial_population[0]\\n            best_score = score\\n\\n        # put again the best one in population\\n        else: \\n            print(\"valhalla\")\\n            initial_population.append(best)\\n            initial_population,scores = sort_individuals(initial_population)\\n            print(f\"valhallla {i}: scores {scores}\\n\")\\n\\n        worst_score = scores[OFFSPRING_SIZE-1] # if worst_score > scores[-1] else worst_score\\n   \\n   \\n    # remove worst individual\\n    initial_population = initial_population[:POPULATION_SIZE]\\n    scores = scores[:POPULATION_SIZE]\\n    # print(f\"cut {i}: scores {scores}\\n\")\\n \\n    # update the worst score\\n    # print(f\"iteration {i} \")\\n    offsprings = []\\n\\nprint(\"Best individual has formula:\")\\nprint(f\"Best individual mse {mse(initial_population[0].genome.root.evaluate_tree_from_node(VARIABLES_MAP, BINARY_OPERATORS, UNARY_OPERATORS), y)}\")\\ninitial_population[0].genome.draw_tree() '"
      ]
     },
     "execution_count": 52,
     "metadata": {},
     "output_type": "execute_result"
    }
   ],
   "source": [
    "\"\"\" state = random.getstate()\n",
    "initial_population = [Individual(generate_initial_solution(seed=(i+2) * 10), 0) for i in range(POPULATION_SIZE)]\n",
    "offsprings = []\n",
    "random.setstate(state)\n",
    "\n",
    "# set the fitness\n",
    "for ind in initial_population:\n",
    "    ind.fitness = fitness(ind.genome)\n",
    "initial_population, scores = sort_individuals(initial_population)\n",
    "initial_population[0].genome.draw_tree()\n",
    "\n",
    "# print(initial_population)\n",
    "\n",
    "best = None\n",
    "best_score = 0\n",
    "worst_score = 0\n",
    "scores = [compute_score(initial_population[i], initial_population) for i in range(POPULATION_SIZE)]\n",
    "\n",
    "for i in tqdm(range(MAX_ITERATIONS)):\n",
    "# for i in range(MAX_ITERATIONS):\n",
    "    for _ in range(OFFSPRING_SIZE):\n",
    "        parent1, parent2 = parent_selection(initial_population, scores, worst_score)\n",
    "        # crossover\n",
    "        if random.random() < 0.65:\n",
    "            child, c_fitness = xover(parent1, parent2)\n",
    "    \n",
    "            offsprings.append(Individual(child, c_fitness))\n",
    "\n",
    "        # mutation\n",
    "        else :\n",
    "            # take a random individual and mutate it\n",
    "            ind = copy.deepcopy(random.choice([parent1,parent2]))\n",
    "\n",
    "            mutation(ind.genome)\n",
    "            # recompute fitness\n",
    "            ind.fitness = fitness(ind.genome)\n",
    "            offsprings.append(ind)\n",
    "\n",
    "    \n",
    "    # sort population according to score based on fitness         \n",
    "    initial_population, scores = sort_individuals(offsprings)\n",
    "    # print(f\"{i}: scores {scores}\\n\")\n",
    "\n",
    "    if i % 100 == 0:\n",
    "        print(f\"iteration {i} best individual : {initial_population[0].fitness}\")\n",
    "        # compute score \n",
    "        score = scores[0]\n",
    "        if score > best_score:\n",
    "            print(f\"new best score : {score}, old score : {best_score}\")\n",
    "            best = initial_population[0]\n",
    "            best_score = score\n",
    "\n",
    "        # put again the best one in population\n",
    "        else: \n",
    "            print(\"valhalla\")\n",
    "            initial_population.append(best)\n",
    "            initial_population,scores = sort_individuals(initial_population)\n",
    "            print(f\"valhallla {i}: scores {scores}\\n\")\n",
    "\n",
    "        worst_score = scores[OFFSPRING_SIZE-1] # if worst_score > scores[-1] else worst_score\n",
    "   \n",
    "   \n",
    "    # remove worst individual\n",
    "    initial_population = initial_population[:POPULATION_SIZE]\n",
    "    scores = scores[:POPULATION_SIZE]\n",
    "    # print(f\"cut {i}: scores {scores}\\n\")\n",
    " \n",
    "    # update the worst score\n",
    "    # print(f\"iteration {i} \")\n",
    "    offsprings = []\n",
    "\n",
    "print(\"Best individual has formula:\")\n",
    "print(f\"Best individual mse {mse(initial_population[0].genome.root.evaluate_tree_from_node(VARIABLES_MAP, BINARY_OPERATORS, UNARY_OPERATORS), y)}\")\n",
    "initial_population[0].genome.draw_tree() \"\"\""
   ]
  }
 ],
 "metadata": {
  "kernelspec": {
   "display_name": "venv",
   "language": "python",
   "name": "python3"
  },
  "language_info": {
   "codemirror_mode": {
    "name": "ipython",
    "version": 3
   },
   "file_extension": ".py",
   "mimetype": "text/x-python",
   "name": "python",
   "nbconvert_exporter": "python",
   "pygments_lexer": "ipython3",
   "version": "3.12.8"
  }
 },
 "nbformat": 4,
 "nbformat_minor": 2
}
