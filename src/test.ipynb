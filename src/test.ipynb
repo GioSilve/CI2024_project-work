{
 "cells": [
  {
   "cell_type": "code",
   "execution_count": 16,
   "metadata": {},
   "outputs": [],
   "source": [
    "import numpy as np\n",
    "import random\n",
    "import copy\n",
    "import globals as gb\n",
    "from tqdm.auto import tqdm\n",
    "from dataclasses import dataclass\n",
    "from tree import Tree, swap_subtrees, generate_initial_solution\n",
    "from utils import mse, sort_individuals, compute_score\n",
    "from mutations import mutation"
   ]
  },
  {
   "cell_type": "markdown",
   "metadata": {},
   "source": [
    "## Problem selection"
   ]
  },
  {
   "cell_type": "code",
   "execution_count": 17,
   "metadata": {},
   "outputs": [],
   "source": [
    "gb.initialize_globals_for_problem(1)\n",
    "\n",
    "POPULATION_SIZE = gb.PROBLEM_SIZE * 20\n",
    "OFFSPRING_SIZE = int(POPULATION_SIZE / 4)\n",
    "MAX_ITERATIONS = POPULATION_SIZE * 50"
   ]
  },
  {
   "cell_type": "markdown",
   "metadata": {},
   "source": [
    "## Steps\n",
    "- We treat a possible solution as a tree. The tree has attribute root, which is the root of the tree of class TreeNode and max_depth.\n",
    "- Generate random tree\n",
    "    - we need each variable at least once \n",
    "    - each variable has exactly one coefficient chosen as a random float number in the range [?, ?]\n",
    "    - each variable has exactly one unary operator\n",
    "    - unary operator is chosen as: 50% chance of \"\" (i.e. no change to the variable), 50% chance of choosing among all other unary operators\n",
    "        - check if the unary operator is appliable to the variable ->\n",
    "            ```\n",
    "            leaves_map = {}\n",
    "            for e in leaves:\n",
    "                available_unary_operators = [op for op in list(UNARY_OPERATORS.keys()) if op.is_applicable(e)]\n",
    "                chosen_unary_operator = 50% chance of \"\" (i.e. no change to the variable), 50% chance of choosing among [available_unary_operators]\n",
    "                leaves_map[e] = [chosen_unary_operator]\n",
    "            # leaves = [-2, 3]\n",
    "            # leaves_map = {-2: square, 3: log}\n",
    "            for e in leaves:\n",
    "                node = leaves_map[e]\n",
    "                node.left = null\n",
    "                node.right = e\n",
    "                # insert node to tree\n",
    "            ```\n",
    "    - number of leaves = nearest power of two greater than keys.length()\n",
    "    - number of actual leaves = [number of leaves] * 2\n",
    "    - number of coefficients = [number of leaves] - keys.length()\n",
    "    - number of binrary operators = total number of nodes in  tree with [number of leaves] leaves - [number of leaves]]\n",
    "    - validate tree\n",
    "    - if valid, return tree\n",
    "    - else, ?\n",
    "- Example:\n",
    "    - x.length() = 3\n",
    "    - number of leaves = 4\n",
    "    - number of actual leaves = 8\n",
    "    - number of coefficients = 1\n",
    "    - number of operands = 3\n",
    "\n",
    "    ```bash\n",
    "                    +\n",
    "            /                  \\\n",
    "            *                    +\n",
    "        /      \\           /        \\\n",
    "      u        1          1          u\n",
    "    /   \\    /   \\      /   \\       /  \\\n",
    "    nul  *  nul   *    nul    *     nul *\n",
    "    ```\n",
    "### EA approach\n",
    "- Individual is rapresented as a tree and a fitness\n",
    "    - fitness is a tuple of 2 values: (-mse, right_sign_100)\n",
    "        - right_sign_100 is the percentage of correct sign predictions\n",
    "        - mse is the mean squared error\n",
    "- Classic Genetic Programming\n",
    "    - Key elements \n",
    "    - Representation: tree structures\n",
    "    - Recombination: exchange of subtrees\n",
    "    - Mutation: random change in trees\n",
    "        - subtree mutation -> replace  entire subtree\n",
    "        - point  mutation -> change single node\n",
    "        - permutation -> exchange node right with left\n",
    "        - hoist -> take subtree and make it root\n",
    "        - expansion -> take random leaf and replace it with a new subtree\n",
    "        - collapse -> take a subtree and replace it with leaf\n",
    "    - Population model: generational\n",
    "    - Parent selection: fitness proportional\n",
    "    - Survivor selection: deterministic\n",
    "\n",
    "##next\n",
    "\n",
    "    - finish implementing mutations\n",
    "    - find way to reduce tree dimension\n",
    "    - add weights to opertors\n",
    "    - add check if fitness doesn't improve , stop early\n",
    "    - \n",
    "\n",
    "##problems\n",
    "    - overflow\n",
    "    - initial tree with 4xnodes has invalid values\n",
    "    - \n"
   ]
  },
  {
   "cell_type": "markdown",
   "metadata": {},
   "source": [
    "## Individual definition"
   ]
  },
  {
   "cell_type": "code",
   "execution_count": 18,
   "metadata": {},
   "outputs": [],
   "source": [
    "@dataclass\n",
    "class Individual:\n",
    "    genome: Tree\n",
    "    fitness: tuple"
   ]
  },
  {
   "cell_type": "markdown",
   "metadata": {},
   "source": [
    "## Fitness evaluation"
   ]
  },
  {
   "cell_type": "code",
   "execution_count": 19,
   "metadata": {},
   "outputs": [],
   "source": [
    "def fitness(sol: Tree):\n",
    "    y_computed = sol.root.evaluate_tree_from_node()\n",
    "    right_sign_100 = 100 * np.sum(np.sign(y_computed) == np.sign(gb.Y)) / len(gb.Y)\n",
    "    return  -mse(y_computed, gb.Y) * (np.exp((sol.get_max_depth() / 10))), right_sign_100"
   ]
  },
  {
   "cell_type": "markdown",
   "metadata": {},
   "source": [
    "## EA helper functions"
   ]
  },
  {
   "cell_type": "code",
   "execution_count": 20,
   "metadata": {},
   "outputs": [],
   "source": [
    "def parent_selection(population: list[Individual], scores, worst_score):\n",
    "    # windowing    \n",
    "    scores_prime = [(s-worst_score) for s in scores]\n",
    "    # print(len(population), len(scores))\n",
    "    total = sum(scores_prime)\n",
    "    # if all population doesn't have some score\n",
    "    if total != 0:\n",
    "        probabilities = [s/total for s in scores_prime]\n",
    "\n",
    "        parents = random.choices(population, probabilities, k=2)\n",
    "            \n",
    "        return parents[0], parents[1]\n",
    "    \n",
    "    return population[0], population[1]\n",
    "\n",
    "def xover(parent1, parent2)-> tuple[Tree, tuple]:\n",
    "    # parents = random.choices(population, k=2)\n",
    "\n",
    "    # reproduce\n",
    "    c1 = copy.deepcopy(parent1.genome)\n",
    "    c2 = copy.deepcopy(parent2.genome)\n",
    "\n",
    "    success = swap_subtrees(c1, c2)\n",
    "\n",
    "    c_fitness = fitness(c2)\n",
    "\n",
    "    if not success:\n",
    "        # mutation\n",
    "        mutation(c2)\n",
    "\n",
    "    return c2, c_fitness\n",
    "\n",
    "def tournament(population):\n",
    "    # generate a certain number of tournaments\n",
    "    n_tour = 3\n",
    "    winners = []\n",
    "    # for each tournament find a winner for a portion of the population\n",
    "    for i in range(n_tour):\n",
    "        start =int( i*len(population)/3)\n",
    "        end =int( (i+1)*len(population)/ 3)\n",
    "        p_i = population[start : end]\n",
    "\n",
    "        w_i = ea(p_i)\n",
    "        winners.append(w_i)\n",
    "    \n",
    "    winners , scores = sort_individuals(winners)\n",
    "    # get the best winner/s\n",
    "    # check if there are pari merito\n",
    "    # best_score = np.max(scores)\n",
    "\n",
    "    # return [winners[i] for i in range(len(winners)) if scores[i]==best_score]\n",
    "    return winners\n",
    "\n",
    "\n",
    "\n",
    "# n. torunament --> population / #tour --> ea\n",
    "# n.tour winners --> take best\n",
    "# generate initial population from best with mutations\n",
    "\n",
    "def ea(population, iterations=200, best=None, best_score=-1, prev_score=0):\n",
    "    # print(population)\n",
    "    scores = []\n",
    "    offsprings = []\n",
    "    worst_score = 0\n",
    "    \n",
    "    for ind in population:\n",
    "        ind.fitness = fitness(ind.genome)\n",
    "    population, scores = sort_individuals(population)\n",
    "\n",
    "    for i in tqdm(range(iterations)):\n",
    "    \n",
    "        for _ in range(OFFSPRING_SIZE):\n",
    "            parent1, parent2 = parent_selection(population, scores, worst_score)\n",
    "            # crossover\n",
    "            if random.random() < 0.8:\n",
    "                child, c_fitness = xover(parent1, parent2)\n",
    "        \n",
    "                offsprings.append(Individual(child, c_fitness))\n",
    "\n",
    "            # mutation\n",
    "            else :\n",
    "                # take a random individual and mutate it\n",
    "                ind = copy.deepcopy(random.choice([parent1,parent2]))\n",
    "\n",
    "                mutation(ind.genome)\n",
    "                # recompute fitness\n",
    "                ind.fitness = fitness(ind.genome)\n",
    "                offsprings.append(ind)\n",
    "        population.extend(offsprings)\n",
    "        offsprings = []\n",
    "\n",
    "        if i % 100 == 0:\n",
    "            #print(f\"iteration {i} best individual : {population[0].fitness}\")\n",
    "            # compute score \n",
    "            score = scores[0]\n",
    "            if score > best_score:\n",
    "                #print(f\"new best score : {score}, old score : {best_score}\")\n",
    "                best = population[0]\n",
    "                best_score = score\n",
    "\n",
    "            # put again the best one in population\n",
    "            else: \n",
    "                #print(\"valhalla\")\n",
    "                population.append(best)\n",
    "                population,scores = sort_individuals(population)\n",
    "                # print(f\"valhallla {i}: scores {scores}\\n\")\n",
    "\n",
    "            worst_score = scores[OFFSPRING_SIZE-1] # if worst_score > scores[-1] else worst_score\n",
    "        \n",
    "        \n",
    "        # sort population according to score based on fitness         \n",
    "        population, scores = sort_individuals(population)\n",
    "\n",
    "        # remove worst individual\n",
    "        population = population[:POPULATION_SIZE]\n",
    "        scores = scores[:POPULATION_SIZE]\n",
    "\n",
    "           # stop searching if scores doesn't improve anymore after 20% of max iterations\n",
    "        if i % (MAX_ITERATIONS*0.25) == 0:\n",
    "            if prev_score == scores[0]:\n",
    "                print(\"exit\")\n",
    "                break\n",
    "            else:\n",
    "                prev_score = scores[0]\n",
    "\n",
    "\n",
    "    print(f\"winner's mse {mse(population[0].genome.root.evaluate_tree_from_node(), gb.Y)}\")\n",
    "    \n",
    "    return population[0]"
   ]
  },
  {
   "cell_type": "markdown",
   "metadata": {},
   "source": [
    "## Main"
   ]
  },
  {
   "cell_type": "code",
   "execution_count": 21,
   "metadata": {},
   "outputs": [],
   "source": [
    "# state = random.getstate()\n",
    "# population = [Individual(generate_initial_solution(seed=(i+2) * 10), 0) for i in range(gb.POPULATION_SIZE)]\n",
    "# offsprings = []\n",
    "# random.setstate(state)\n",
    "\n",
    "# winners = tournament(population)\n",
    "# winners"
   ]
  },
  {
   "cell_type": "code",
   "execution_count": 22,
   "metadata": {},
   "outputs": [
    {
     "data": {
      "application/vnd.jupyter.widget-view+json": {
       "model_id": "d0fc77f86faa45d890d8105f666c9f87",
       "version_major": 2,
       "version_minor": 0
      },
      "text/plain": [
       "  0%|          | 0/200 [00:00<?, ?it/s]"
      ]
     },
     "metadata": {},
     "output_type": "display_data"
    },
    {
     "name": "stdout",
     "output_type": "stream",
     "text": [
      "winner's mse 0.06058601596535469\n"
     ]
    },
    {
     "data": {
      "application/vnd.jupyter.widget-view+json": {
       "model_id": "e91bd31526f943488f09f5645f37dd42",
       "version_major": 2,
       "version_minor": 0
      },
      "text/plain": [
       "  0%|          | 0/200 [00:00<?, ?it/s]"
      ]
     },
     "metadata": {},
     "output_type": "display_data"
    },
    {
     "name": "stdout",
     "output_type": "stream",
     "text": [
      "winner's mse 0.028186064131489375\n"
     ]
    },
    {
     "data": {
      "application/vnd.jupyter.widget-view+json": {
       "model_id": "374dd028c5c04fa191ea3ae607c39f2f",
       "version_major": 2,
       "version_minor": 0
      },
      "text/plain": [
       "  0%|          | 0/200 [00:00<?, ?it/s]"
      ]
     },
     "metadata": {},
     "output_type": "display_data"
    },
    {
     "name": "stdout",
     "output_type": "stream",
     "text": [
      "winner's mse 0.9722227033844891\n"
     ]
    },
    {
     "data": {
      "image/svg+xml": [
       "<?xml version=\"1.0\" encoding=\"UTF-8\" standalone=\"no\"?>\n",
       "<!DOCTYPE svg PUBLIC \"-//W3C//DTD SVG 1.1//EN\"\n",
       " \"http://www.w3.org/Graphics/SVG/1.1/DTD/svg11.dtd\">\n",
       "<!-- Generated by graphviz version 12.2.1 (20241206.2353)\n",
       " -->\n",
       "<!-- Pages: 1 -->\n",
       "<svg width=\"79pt\" height=\"133pt\"\n",
       " viewBox=\"0.00 0.00 78.75 132.50\" xmlns=\"http://www.w3.org/2000/svg\" xmlns:xlink=\"http://www.w3.org/1999/xlink\">\n",
       "<g id=\"graph0\" class=\"graph\" transform=\"scale(1 1) rotate(0) translate(4 128.5)\">\n",
       "<polygon fill=\"white\" stroke=\"none\" points=\"-4,4 -4,-128.5 74.75,-128.5 74.75,4 -4,4\"/>\n",
       "<!-- 1959911791728 -->\n",
       "<g id=\"node1\" class=\"node\">\n",
       "<title>1959911791728</title>\n",
       "<ellipse fill=\"none\" stroke=\"black\" cx=\"35.38\" cy=\"-106.5\" rx=\"27\" ry=\"18\"/>\n",
       "</g>\n",
       "<!-- 1959911795760 -->\n",
       "<g id=\"node2\" class=\"node\">\n",
       "<title>1959911795760</title>\n",
       "<polygon fill=\"none\" stroke=\"black\" points=\"70.75,-36 0,-36 0,0 70.75,0 70.75,-36\"/>\n",
       "<text text-anchor=\"middle\" x=\"35.38\" y=\"-12.95\" font-family=\"Times New Roman,serif\" font-size=\"14.00\">1.46 &#160;X_0</text>\n",
       "</g>\n",
       "<!-- 1959911791728&#45;&gt;1959911795760 -->\n",
       "<g id=\"edge1\" class=\"edge\">\n",
       "<title>1959911791728&#45;&gt;1959911795760</title>\n",
       "<path fill=\"none\" stroke=\"black\" d=\"M35.38,-88.41C35.38,-76.76 35.38,-61.05 35.38,-47.52\"/>\n",
       "<polygon fill=\"black\" stroke=\"black\" points=\"38.88,-47.86 35.38,-37.86 31.88,-47.86 38.88,-47.86\"/>\n",
       "<text text-anchor=\"middle\" x=\"39.88\" y=\"-57.2\" font-family=\"Times New Roman,serif\" font-size=\"14.00\">R</text>\n",
       "</g>\n",
       "</g>\n",
       "</svg>\n"
      ],
      "text/plain": [
       "<graphviz.graphs.Digraph at 0x1c853dfb380>"
      ]
     },
     "metadata": {},
     "output_type": "display_data"
    },
    {
     "data": {
      "application/vnd.jupyter.widget-view+json": {
       "model_id": "e6195860ef6f424593601c7004933843",
       "version_major": 2,
       "version_minor": 0
      },
      "text/plain": [
       "  0%|          | 0/200 [00:00<?, ?it/s]"
      ]
     },
     "metadata": {},
     "output_type": "display_data"
    },
    {
     "name": "stdout",
     "output_type": "stream",
     "text": [
      "winner's mse 0.031209213100795163\n",
      "Best individual has formula:\n",
      "Best individual mse 0.031209213100795163\n"
     ]
    },
    {
     "data": {
      "image/svg+xml": [
       "<?xml version=\"1.0\" encoding=\"UTF-8\" standalone=\"no\"?>\n",
       "<!DOCTYPE svg PUBLIC \"-//W3C//DTD SVG 1.1//EN\"\n",
       " \"http://www.w3.org/Graphics/SVG/1.1/DTD/svg11.dtd\">\n",
       "<!-- Generated by graphviz version 12.2.1 (20241206.2353)\n",
       " -->\n",
       "<!-- Pages: 1 -->\n",
       "<svg width=\"79pt\" height=\"133pt\"\n",
       " viewBox=\"0.00 0.00 78.75 132.50\" xmlns=\"http://www.w3.org/2000/svg\" xmlns:xlink=\"http://www.w3.org/1999/xlink\">\n",
       "<g id=\"graph0\" class=\"graph\" transform=\"scale(1 1) rotate(0) translate(4 128.5)\">\n",
       "<polygon fill=\"white\" stroke=\"none\" points=\"-4,4 -4,-128.5 74.75,-128.5 74.75,4 -4,4\"/>\n",
       "<!-- 1959918698464 -->\n",
       "<g id=\"node1\" class=\"node\">\n",
       "<title>1959918698464</title>\n",
       "<ellipse fill=\"none\" stroke=\"black\" cx=\"35.38\" cy=\"-106.5\" rx=\"33.44\" ry=\"18\"/>\n",
       "<text text-anchor=\"middle\" x=\"35.38\" y=\"-101.45\" font-family=\"Times New Roman,serif\" font-size=\"14.00\">arctan</text>\n",
       "</g>\n",
       "<!-- 1959918695056 -->\n",
       "<g id=\"node2\" class=\"node\">\n",
       "<title>1959918695056</title>\n",
       "<polygon fill=\"none\" stroke=\"black\" points=\"70.75,-36 0,-36 0,0 70.75,0 70.75,-36\"/>\n",
       "<text text-anchor=\"middle\" x=\"35.38\" y=\"-12.95\" font-family=\"Times New Roman,serif\" font-size=\"14.00\">1.03 &#160;X_0</text>\n",
       "</g>\n",
       "<!-- 1959918698464&#45;&gt;1959918695056 -->\n",
       "<g id=\"edge1\" class=\"edge\">\n",
       "<title>1959918698464&#45;&gt;1959918695056</title>\n",
       "<path fill=\"none\" stroke=\"black\" d=\"M35.38,-88.41C35.38,-76.76 35.38,-61.05 35.38,-47.52\"/>\n",
       "<polygon fill=\"black\" stroke=\"black\" points=\"38.88,-47.86 35.38,-37.86 31.88,-47.86 38.88,-47.86\"/>\n",
       "<text text-anchor=\"middle\" x=\"39.88\" y=\"-57.2\" font-family=\"Times New Roman,serif\" font-size=\"14.00\">R</text>\n",
       "</g>\n",
       "</g>\n",
       "</svg>\n"
      ],
      "text/plain": [
       "<graphviz.graphs.Digraph at 0x1c854417740>"
      ]
     },
     "metadata": {},
     "output_type": "display_data"
    }
   ],
   "source": [
    "state = random.getstate()\n",
    "population = [Individual(generate_initial_solution(seed=(i+2) * 10), 0) for i in range(POPULATION_SIZE)]\n",
    "offsprings = []\n",
    "random.setstate(state)\n",
    "\n",
    "# torunament -> use initial population\n",
    "winner = tournament(population)\n",
    "#generate population from winner\n",
    "\n",
    "# set the fitness\n",
    "for ind in population:\n",
    "    ind.fitness = fitness(ind.genome)\n",
    "population, scores = sort_individuals(population)\n",
    "population[0].genome.draw_tree()\n",
    "\n",
    "# ea\n",
    "result = ea(population)\n",
    "print(\"Best individual has formula:\")\n",
    "print(f\"Best individual mse {mse(result.genome.root.evaluate_tree_from_node(), gb.Y)}\")\n",
    "result.genome.draw_tree()\n",
    "\n",
    "# # print(population)\n",
    "\n",
    "# best = None\n",
    "# best_score = -1\n",
    "# worst_score = 0\n",
    "\n",
    "# prev_score = 0 #score to check every 10% of iterations\n",
    "# scores = [compute_score(population[i], population) for i in range(POPULATION_SIZE)]\n",
    "\n",
    "# for i in tqdm(range(MAX_ITERATIONS)):\n",
    "    \n",
    "#     for _ in range(OFFSPRING_SIZE):\n",
    "#         parent1, parent2 = parent_selection(population, scores, worst_score)\n",
    "#         # crossover\n",
    "#         if random.random() < 0.65:\n",
    "#             child, c_fitness = xover(parent1, parent2)\n",
    "    \n",
    "#             offsprings.append(Individual(child, c_fitness))\n",
    "\n",
    "#         # mutation\n",
    "#         else :\n",
    "#             # take a random individual and mutate it\n",
    "#             ind = copy.deepcopy(random.choice([parent1,parent2]))\n",
    "\n",
    "#             mutation(ind.genome)\n",
    "#             # recompute fitness\n",
    "#             ind.fitness = fitness(ind.genome)\n",
    "#             offsprings.append(ind)\n",
    "#     population.extend(offsprings)\n",
    "#     offsprings = []\n",
    "    \n",
    "#     # sort population according to score based on fitness         \n",
    "#     population, scores = sort_individuals(population)\n",
    "#     # print(f\"{i}: scores {scores}\\n\")\n",
    "\n",
    "#     if i % 100 == 0:\n",
    "#         #print(f\"iteration {i} best individual : {population[0].fitness}\")\n",
    "#         # compute score \n",
    "#         score = scores[0]\n",
    "#         if score > best_score:\n",
    "#             #print(f\"new best score : {score}, old score : {best_score}\")\n",
    "#             best = population[0]\n",
    "#             best_score = score\n",
    "\n",
    "#         # put again the best one in population\n",
    "#         else: \n",
    "#             #print(\"valhalla\")\n",
    "#             population.append(best)\n",
    "#             population,scores = sort_individuals(population)\n",
    "#             # print(f\"valhallla {i}: scores {scores}\\n\")\n",
    "\n",
    "#         worst_score = scores[OFFSPRING_SIZE-1] # if worst_score > scores[-1] else worst_score\n",
    "   \n",
    "   \n",
    "#     # remove worst individual\n",
    "#     population = population[:POPULATION_SIZE]\n",
    "#     scores = scores[:POPULATION_SIZE]\n",
    "    \n",
    "#     # stop searching if scores doesn't improve anymore after 20% of max iterations\n",
    "#     if i % (MAX_ITERATIONS*0.25) == 0:\n",
    "#         if prev_score == scores[0]:\n",
    "#             print(\"exit\")\n",
    "#             break\n",
    "#         else:\n",
    "#             prev_score = scores[0]\n",
    "\n",
    "    \n",
    "\n"
   ]
  },
  {
   "cell_type": "markdown",
   "metadata": {},
   "source": [
    "## version 2"
   ]
  },
  {
   "cell_type": "code",
   "execution_count": 23,
   "metadata": {},
   "outputs": [
    {
     "data": {
      "text/plain": [
       "' POPULATION_SIZE = PROBLEM_SIZE*20\\nOFFSPRING_SIZE = POPULATION_SIZE*3\\nMAX_ITERATIONS = 1000 '"
      ]
     },
     "execution_count": 23,
     "metadata": {},
     "output_type": "execute_result"
    }
   ],
   "source": [
    "\"\"\" POPULATION_SIZE = PROBLEM_SIZE*20\n",
    "OFFSPRING_SIZE = POPULATION_SIZE*3\n",
    "MAX_ITERATIONS = 1000 \"\"\""
   ]
  },
  {
   "cell_type": "code",
   "execution_count": 24,
   "metadata": {},
   "outputs": [
    {
     "data": {
      "text/plain": [
       "' state = random.getstate()\\ninitial_population = [Individual(generate_initial_solution(seed=(i+2) * 10), 0) for i in range(POPULATION_SIZE)]\\noffsprings = []\\nrandom.setstate(state)\\n\\n# set the fitness\\nfor ind in initial_population:\\n    ind.fitness = fitness(ind.genome)\\ninitial_population, scores = sort_individuals(initial_population)\\ninitial_population[0].genome.draw_tree()\\n\\n# print(initial_population)\\n\\nbest = None\\nbest_score = 0\\nworst_score = 0\\nscores = [compute_score(initial_population[i], initial_population) for i in range(POPULATION_SIZE)]\\n\\nfor i in tqdm(range(MAX_ITERATIONS)):\\n# for i in range(MAX_ITERATIONS):\\n    for _ in range(OFFSPRING_SIZE):\\n        parent1, parent2 = parent_selection(initial_population, scores, worst_score)\\n        # crossover\\n        if random.random() < 0.65:\\n            child, c_fitness = xover(parent1, parent2)\\n    \\n            offsprings.append(Individual(child, c_fitness))\\n\\n        # mutation\\n        else :\\n            # take a random individual and mutate it\\n            ind = copy.deepcopy(random.choice([parent1,parent2]))\\n\\n            mutation(ind.genome)\\n            # recompute fitness\\n            ind.fitness = fitness(ind.genome)\\n            offsprings.append(ind)\\n\\n    \\n    # sort population according to score based on fitness         \\n    initial_population, scores = sort_individuals(offsprings)\\n    # print(f\"{i}: scores {scores}\\n\")\\n\\n    if i % 100 == 0:\\n        print(f\"iteration {i} best individual : {initial_population[0].fitness}\")\\n        # compute score \\n        score = scores[0]\\n        if score > best_score:\\n            print(f\"new best score : {score}, old score : {best_score}\")\\n            best = initial_population[0]\\n            best_score = score\\n\\n        # put again the best one in population\\n        else: \\n            print(\"valhalla\")\\n            initial_population.append(best)\\n            initial_population,scores = sort_individuals(initial_population)\\n            print(f\"valhallla {i}: scores {scores}\\n\")\\n\\n        worst_score = scores[OFFSPRING_SIZE-1] # if worst_score > scores[-1] else worst_score\\n   \\n   \\n    # remove worst individual\\n    initial_population = initial_population[:POPULATION_SIZE]\\n    scores = scores[:POPULATION_SIZE]\\n    # print(f\"cut {i}: scores {scores}\\n\")\\n \\n    # update the worst score\\n    # print(f\"iteration {i} \")\\n    offsprings = []\\n\\nprint(\"Best individual has formula:\")\\nprint(f\"Best individual mse {mse(initial_population[0].genome.root.evaluate_tree_from_node(VARIABLES_MAP, BINARY_OPERATORS, UNARY_OPERATORS), y)}\")\\ninitial_population[0].genome.draw_tree() '"
      ]
     },
     "execution_count": 24,
     "metadata": {},
     "output_type": "execute_result"
    }
   ],
   "source": [
    "\"\"\" state = random.getstate()\n",
    "initial_population = [Individual(generate_initial_solution(seed=(i+2) * 10), 0) for i in range(POPULATION_SIZE)]\n",
    "offsprings = []\n",
    "random.setstate(state)\n",
    "\n",
    "# set the fitness\n",
    "for ind in initial_population:\n",
    "    ind.fitness = fitness(ind.genome)\n",
    "initial_population, scores = sort_individuals(initial_population)\n",
    "initial_population[0].genome.draw_tree()\n",
    "\n",
    "# print(initial_population)\n",
    "\n",
    "best = None\n",
    "best_score = 0\n",
    "worst_score = 0\n",
    "scores = [compute_score(initial_population[i], initial_population) for i in range(POPULATION_SIZE)]\n",
    "\n",
    "for i in tqdm(range(MAX_ITERATIONS)):\n",
    "# for i in range(MAX_ITERATIONS):\n",
    "    for _ in range(OFFSPRING_SIZE):\n",
    "        parent1, parent2 = parent_selection(initial_population, scores, worst_score)\n",
    "        # crossover\n",
    "        if random.random() < 0.65:\n",
    "            child, c_fitness = xover(parent1, parent2)\n",
    "    \n",
    "            offsprings.append(Individual(child, c_fitness))\n",
    "\n",
    "        # mutation\n",
    "        else :\n",
    "            # take a random individual and mutate it\n",
    "            ind = copy.deepcopy(random.choice([parent1,parent2]))\n",
    "\n",
    "            mutation(ind.genome)\n",
    "            # recompute fitness\n",
    "            ind.fitness = fitness(ind.genome)\n",
    "            offsprings.append(ind)\n",
    "\n",
    "    \n",
    "    # sort population according to score based on fitness         \n",
    "    initial_population, scores = sort_individuals(offsprings)\n",
    "    # print(f\"{i}: scores {scores}\\n\")\n",
    "\n",
    "    if i % 100 == 0:\n",
    "        print(f\"iteration {i} best individual : {initial_population[0].fitness}\")\n",
    "        # compute score \n",
    "        score = scores[0]\n",
    "        if score > best_score:\n",
    "            print(f\"new best score : {score}, old score : {best_score}\")\n",
    "            best = initial_population[0]\n",
    "            best_score = score\n",
    "\n",
    "        # put again the best one in population\n",
    "        else: \n",
    "            print(\"valhalla\")\n",
    "            initial_population.append(best)\n",
    "            initial_population,scores = sort_individuals(initial_population)\n",
    "            print(f\"valhallla {i}: scores {scores}\\n\")\n",
    "\n",
    "        worst_score = scores[OFFSPRING_SIZE-1] # if worst_score > scores[-1] else worst_score\n",
    "   \n",
    "   \n",
    "    # remove worst individual\n",
    "    initial_population = initial_population[:POPULATION_SIZE]\n",
    "    scores = scores[:POPULATION_SIZE]\n",
    "    # print(f\"cut {i}: scores {scores}\\n\")\n",
    " \n",
    "    # update the worst score\n",
    "    # print(f\"iteration {i} \")\n",
    "    offsprings = []\n",
    "\n",
    "print(\"Best individual has formula:\")\n",
    "print(f\"Best individual mse {mse(initial_population[0].genome.root.evaluate_tree_from_node(VARIABLES_MAP, BINARY_OPERATORS, UNARY_OPERATORS), y)}\")\n",
    "initial_population[0].genome.draw_tree() \"\"\""
   ]
  }
 ],
 "metadata": {
  "kernelspec": {
   "display_name": "poetry_venv",
   "language": "python",
   "name": "python3"
  },
  "language_info": {
   "codemirror_mode": {
    "name": "ipython",
    "version": 3
   },
   "file_extension": ".py",
   "mimetype": "text/x-python",
   "name": "python",
   "nbconvert_exporter": "python",
   "pygments_lexer": "ipython3",
   "version": "3.12.6"
  }
 },
 "nbformat": 4,
 "nbformat_minor": 2
}
